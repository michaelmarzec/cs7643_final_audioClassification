{
 "cells": [
  {
   "cell_type": "markdown",
   "id": "0eca8791",
   "metadata": {
    "id": "0eca8791"
   },
   "source": [
    "# CS7643 Final Project\n",
    "\n",
    "This notebook is meant to go through the different models and experiment on our dataset containing 21782 training samples on different sounds. \n",
    "\n",
    "## Group Members\n",
    "Zach Halaby\n",
    "Michael Marzec\n",
    "Shayan Mukhtar\n",
    "\n",
    "## Dataset\n",
    "\n",
    "The dataset was obtained under Google's GPL license terms from the following site: https://research.google.com/audioset/download.html"
   ]
  },
  {
   "cell_type": "markdown",
   "id": "ImJTVnHG3Pm8",
   "metadata": {
    "id": "ImJTVnHG3Pm8"
   },
   "source": [
    "## Colab Prep"
   ]
  },
  {
   "cell_type": "markdown",
   "id": "bLriXwfJ3zCv",
   "metadata": {
    "id": "bLriXwfJ3zCv"
   },
   "source": [
    "github <--> colab instructions: https://medium.com/analytics-vidhya/how-to-use-google-colab-with-github-via-google-drive-68efb23a42d"
   ]
  },
  {
   "cell_type": "code",
   "execution_count": null,
   "id": "FBltGWVZ2isD",
   "metadata": {
    "colab": {
     "base_uri": "https://localhost:8080/"
    },
    "executionInfo": {
     "elapsed": 14172,
     "status": "ok",
     "timestamp": 1638562766579,
     "user": {
      "displayName": "Michael Marzec",
      "photoUrl": "https://lh3.googleusercontent.com/a/default-user=s64",
      "userId": "16926897206425110003"
     },
     "user_tz": 300
    },
    "id": "FBltGWVZ2isD",
    "outputId": "e89ad263-9571-4cba-d4ff-97dd6038630c"
   },
   "outputs": [],
   "source": [
    "### If using Google Colab\n",
    "from google.colab import drive\n",
    "drive.mount('/content/drive')"
   ]
  },
  {
   "cell_type": "markdown",
   "id": "f3qpir-v4wqB",
   "metadata": {
    "id": "f3qpir-v4wqB"
   },
   "source": [
    "### Initial Cloning"
   ]
  },
  {
   "cell_type": "code",
   "execution_count": null,
   "id": "eHOQoJtl4wRe",
   "metadata": {
    "colab": {
     "base_uri": "https://localhost:8080/"
    },
    "executionInfo": {
     "elapsed": 12752,
     "status": "ok",
     "timestamp": 1638562986418,
     "user": {
      "displayName": "Michael Marzec",
      "photoUrl": "https://lh3.googleusercontent.com/a/default-user=s64",
      "userId": "16926897206425110003"
     },
     "user_tz": 300
    },
    "id": "eHOQoJtl4wRe",
    "outputId": "1f22dd57-a33c-40ab-df07-2881f87e7a5f"
   },
   "outputs": [],
   "source": [
    "### cd to github drive (create the folder, if it doesn't already exist)\n",
    "%cd /content/drive/MyDrive/Github\n",
    "\n",
    "# git clone -b branch https://{git_token}@github.com/{username}/{repository}\n",
    "# See instructions file if you're unfamiliar with generating git_tokens\n",
    "\n",
    "username = 'shayanmukhtar'\n",
    "repository = 'cs7643_final'\n",
    "# git_token = \n",
    "\n",
    "# !git clone -b UPDATE_BRANCH https://{git_token}@github.com/{username}/{repository}\n",
    "\n"
   ]
  },
  {
   "cell_type": "markdown",
   "id": "6dk6W6qg6oF6",
   "metadata": {
    "id": "6dk6W6qg6oF6"
   },
   "source": [
    "### Git Commands"
   ]
  },
  {
   "cell_type": "markdown",
   "id": "jGi9QZlA6_lH",
   "metadata": {
    "id": "jGi9QZlA6_lH"
   },
   "source": [
    "#### access git (via Google Drive)"
   ]
  },
  {
   "cell_type": "code",
   "execution_count": null,
   "id": "RDGTQvQU6s6R",
   "metadata": {
    "colab": {
     "base_uri": "https://localhost:8080/"
    },
    "executionInfo": {
     "elapsed": 238,
     "status": "ok",
     "timestamp": 1638563010851,
     "user": {
      "displayName": "Michael Marzec",
      "photoUrl": "https://lh3.googleusercontent.com/a/default-user=s64",
      "userId": "16926897206425110003"
     },
     "user_tz": 300
    },
    "id": "RDGTQvQU6s6R",
    "outputId": "3ef695d2-5ff6-4cdb-fccc-90989cd4c523"
   },
   "outputs": [],
   "source": [
    "repository = 'cs7643_final'\n",
    "%cd {repository}\n",
    "\n",
    "%ls -a"
   ]
  },
  {
   "cell_type": "markdown",
   "id": "AfBaTkvS7CYE",
   "metadata": {
    "id": "AfBaTkvS7CYE"
   },
   "source": [
    "#### Commit / Status / Push"
   ]
  },
  {
   "cell_type": "code",
   "execution_count": null,
   "id": "wRoxMllw7LJv",
   "metadata": {
    "colab": {
     "base_uri": "https://localhost:8080/"
    },
    "executionInfo": {
     "elapsed": 231,
     "status": "ok",
     "timestamp": 1638563691959,
     "user": {
      "displayName": "Michael Marzec",
      "photoUrl": "https://lh3.googleusercontent.com/a/default-user=s64",
      "userId": "16926897206425110003"
     },
     "user_tz": 300
    },
    "id": "wRoxMllw7LJv",
    "outputId": "5fc8bbbc-2b50-461d-923a-226262fa42a4"
   },
   "outputs": [],
   "source": [
    "!git status"
   ]
  },
  {
   "cell_type": "code",
   "execution_count": null,
   "id": "SLH5xYCY7Mw6",
   "metadata": {
    "executionInfo": {
     "elapsed": 320,
     "status": "ok",
     "timestamp": 1638563694790,
     "user": {
      "displayName": "Michael Marzec",
      "photoUrl": "https://lh3.googleusercontent.com/a/default-user=s64",
      "userId": "16926897206425110003"
     },
     "user_tz": 300
    },
    "id": "SLH5xYCY7Mw6"
   },
   "outputs": [],
   "source": [
    "!git add ."
   ]
  },
  {
   "cell_type": "code",
   "execution_count": null,
   "id": "zhBfH31h7Oy8",
   "metadata": {
    "colab": {
     "base_uri": "https://localhost:8080/"
    },
    "executionInfo": {
     "elapsed": 285,
     "status": "ok",
     "timestamp": 1638563695834,
     "user": {
      "displayName": "Michael Marzec",
      "photoUrl": "https://lh3.googleusercontent.com/a/default-user=s64",
      "userId": "16926897206425110003"
     },
     "user_tz": 300
    },
    "id": "zhBfH31h7Oy8",
    "outputId": "5320da60-d2e7-426f-c3f9-023664adffa1"
   },
   "outputs": [],
   "source": [
    "# !git config user.email \"michaelmarzec11@gmail.com\"\n",
    "!git commit -m \"notebook rename\""
   ]
  },
  {
   "cell_type": "code",
   "execution_count": null,
   "id": "vvcVXbdh7Ta2",
   "metadata": {
    "colab": {
     "base_uri": "https://localhost:8080/"
    },
    "executionInfo": {
     "elapsed": 1100,
     "status": "ok",
     "timestamp": 1638563646083,
     "user": {
      "displayName": "Michael Marzec",
      "photoUrl": "https://lh3.googleusercontent.com/a/default-user=s64",
      "userId": "16926897206425110003"
     },
     "user_tz": 300
    },
    "id": "vvcVXbdh7Ta2",
    "outputId": "0c35a684-102d-41b5-8303-e1d6703af951"
   },
   "outputs": [],
   "source": [
    "!git push"
   ]
  },
  {
   "cell_type": "markdown",
   "id": "8097e241",
   "metadata": {
    "id": "8097e241"
   },
   "source": [
    "## Instructions\n",
    "Cells with a \"Mandatory\" in their title must be run. Cells with a title stating that running is optional do not have to be run."
   ]
  },
  {
   "cell_type": "markdown",
   "id": "994d28a8",
   "metadata": {
    "id": "994d28a8"
   },
   "source": [
    "## Mandatory - Imports\n",
    "\n",
    "Let's start by importing the necessary packages:"
   ]
  },
  {
   "cell_type": "code",
   "execution_count": 1,
   "id": "67130df6",
   "metadata": {
    "colab": {
     "base_uri": "https://localhost:8080/"
    },
    "executionInfo": {
     "elapsed": 8614,
     "status": "ok",
     "timestamp": 1638563170982,
     "user": {
      "displayName": "Michael Marzec",
      "photoUrl": "https://lh3.googleusercontent.com/a/default-user=s64",
      "userId": "16926897206425110003"
     },
     "user_tz": 300
    },
    "id": "67130df6",
    "outputId": "152b8f20-8bd3-4eac-f315-66eef3e67e64"
   },
   "outputs": [
    {
     "name": "stdout",
     "output_type": "stream",
     "text": [
      "Defaulting to user installation because normal site-packages is not writeable\n",
      "Requirement already satisfied: torchmetrics in /home/shayan/.local/lib/python3.9/site-packages (0.6.0)\n",
      "Requirement already satisfied: packaging in /home/shayan/.local/lib/python3.9/site-packages (from torchmetrics) (21.3)\n",
      "Requirement already satisfied: torch>=1.3.1 in /home/shayan/.local/lib/python3.9/site-packages (from torchmetrics) (1.10.0)\n",
      "Requirement already satisfied: numpy>=1.17.2 in /home/shayan/.local/lib/python3.9/site-packages (from torchmetrics) (1.21.2)\n",
      "Requirement already satisfied: typing-extensions in /home/shayan/.local/lib/python3.9/site-packages (from torch>=1.3.1->torchmetrics) (3.10.0.2)\n",
      "Requirement already satisfied: pyparsing!=3.0.5,>=2.0.2 in /home/shayan/.local/lib/python3.9/site-packages (from packaging->torchmetrics) (3.0.6)\n",
      "\u001b[33mWARNING: You are using pip version 21.2.4; however, version 21.3.1 is available.\n",
      "You should consider upgrading via the '/usr/bin/python3 -m pip install --upgrade pip' command.\u001b[0m\n",
      "Defaulting to user installation because normal site-packages is not writeable\n",
      "Requirement already satisfied: tfrecord in /home/shayan/.local/lib/python3.9/site-packages (1.14.1)\n",
      "Requirement already satisfied: numpy in /home/shayan/.local/lib/python3.9/site-packages (from tfrecord) (1.21.2)\n",
      "Requirement already satisfied: protobuf in /usr/lib/python3/dist-packages (from tfrecord) (3.12.4)\n",
      "Requirement already satisfied: crc32c in /home/shayan/.local/lib/python3.9/site-packages (from tfrecord) (2.2.post0)\n",
      "\u001b[33mWARNING: You are using pip version 21.2.4; however, version 21.3.1 is available.\n",
      "You should consider upgrading via the '/usr/bin/python3 -m pip install --upgrade pip' command.\u001b[0m\n"
     ]
    }
   ],
   "source": [
    "!pip install torchmetrics\n",
    "!pip install tfrecord\n",
    "\n",
    "import os.path\n",
    "\n",
    "import torch\n",
    "import torchmetrics\n",
    "import tfrecord\n",
    "import numpy as np\n",
    "from os import walk\n",
    "\n",
    "from torchmetrics import ConfusionMatrix\n",
    "from torchmetrics import F1\n",
    "\n",
    "from torch.utils.data import DataLoader\n",
    "\n",
    "from models import LinearModel\n",
    "from models import SimpleConvolutionModel\n",
    "from models import SimpleRecurrentModel\n",
    "from utils import utils\n",
    "from utils import dataloader\n",
    "from torch import nn\n",
    "from torch import optim\n",
    "\n",
    "# Tqdm progress bar\n",
    "from tqdm import tqdm_notebook"
   ]
  },
  {
   "cell_type": "markdown",
   "id": "fa322bda",
   "metadata": {
    "id": "fa322bda"
   },
   "source": [
    "## Mandatory - Load Training Data\n",
    "\n",
    "Load the training data into memory"
   ]
  },
  {
   "cell_type": "code",
   "execution_count": 2,
   "id": "ec210b89",
   "metadata": {
    "colab": {
     "base_uri": "https://localhost:8080/"
    },
    "executionInfo": {
     "elapsed": 676,
     "status": "ok",
     "timestamp": 1638563179885,
     "user": {
      "displayName": "Michael Marzec",
      "photoUrl": "https://lh3.googleusercontent.com/a/default-user=s64",
      "userId": "16926897206425110003"
     },
     "user_tz": 300
    },
    "id": "ec210b89",
    "outputId": "37322897-b3ee-4dc5-dfec-9f5a62253132"
   },
   "outputs": [
    {
     "name": "stdout",
     "output_type": "stream",
     "text": [
      "You are using device: cpu\n",
      "Total of 5668 positive examples out of 21782 samples\n"
     ]
    }
   ],
   "source": [
    "# Figure out which device this notebook is being run from\n",
    "device = torch.device('cuda' if torch.cuda.is_available() else 'cpu')\n",
    "print(\"You are using device: %s\" % device)\n",
    "\n",
    "# Load the training data from memory. Note this training data was created\n",
    "# by converting the tfrecord files from the original dataset\n",
    "training_data = utils.load_pytorch_tensor('./utils/balanced_train_data.pt')\n",
    "training_label = utils.load_pytorch_tensor('./utils/balanced_train_label.pt')\n",
    "\n",
    "# make this multi-classification problem a binary classification problem by\n",
    "# selecting all labels which contain a given class and making their label\n",
    "# True, and all others False. In this case, 0 means select the speech class\n",
    "training_label, count = utils.convert_multiclass_to_binary(0, training_label)\n",
    "print(\"Total of \" + str(count) + \" positive examples out of \" + str(training_label.shape[0]) + \" samples\")\n",
    "\n",
    "# convert the training data to floating point\n",
    "training_data = np.float32(training_data)\n",
    "\n",
    "# split the training data into two parts, one for training and the other for validation\n",
    "data_train, label_train, data_val, label_val = utils.split_data_train_val(training_data, training_label)\n",
    "\n",
    "# put on the right device\n",
    "data_train = torch.from_numpy(data_train).to(device)\n",
    "label_train = torch.from_numpy(label_train).to(device)\n",
    "data_val = torch.from_numpy(data_val).to(device)\n",
    "label_val = torch.from_numpy(label_val).to(device)\n",
    "\n",
    "# Load the dataset into an iterable object from which batches can be made\n",
    "train_dataset = dataloader.MusicDataset(data_train, label_train)\n",
    "val_dataset = dataloader.MusicDataset(data_val, label_val)"
   ]
  },
  {
   "cell_type": "markdown",
   "id": "acd6fe0d",
   "metadata": {
    "id": "acd6fe0d"
   },
   "source": [
    "## Optional - Simple Linear Model\n",
    "\n",
    "Let's get a training loop running with this simple linear model, which is nothing but an input, a ReLu, and an output"
   ]
  },
  {
   "cell_type": "code",
   "execution_count": 15,
   "id": "2e3cdbc3",
   "metadata": {
    "id": "2e3cdbc3"
   },
   "outputs": [],
   "source": [
    "# Linear Model Hyperparameters\n",
    "\n",
    "BATCH_SIZE = 32\n",
    "LEARNING_RATE = 1e-3\n",
    "HIDDEN_LAYER_SIZE = 64\n",
    "NUM_EPOCHS = 10"
   ]
  },
  {
   "cell_type": "code",
   "execution_count": 16,
   "id": "620852e9",
   "metadata": {
    "id": "620852e9"
   },
   "outputs": [],
   "source": [
    "# Linear Model boilerplate code\n",
    "\n",
    "train_loader = DataLoader(train_dataset, batch_size=BATCH_SIZE, shuffle=True)\n",
    "val_loader = DataLoader(val_dataset, batch_size=BATCH_SIZE, shuffle=True)\n",
    "\n",
    "linear_model = LinearModel.LinearModel(10*128, HIDDEN_LAYER_SIZE, 2).to(device)\n",
    "optimizer = optim.Adam(linear_model.parameters(), lr=LEARNING_RATE)\n",
    "scheduler = torch.optim.lr_scheduler.ReduceLROnPlateau(optimizer)\n",
    "criterion = nn.CrossEntropyLoss()"
   ]
  },
  {
   "cell_type": "code",
   "execution_count": 17,
   "id": "92288624",
   "metadata": {
    "colab": {
     "referenced_widgets": [
      "fb0337843a99487f988176b3a58b68c1",
      "70114497f04b467aab957a55e3522f0d",
      "4d7924c46fb440b2b4e42f61fe5eae1d",
      "b6043e0162d44586a9d9fb2a5a6c85fe",
      "e2509fe3249a490bbafff0351b3f1115",
      "239224f5890b4c3585f00c39a10874ab",
      "42986d17a97e4bae9ac6c640e00b529d",
      "66b1eadf530e4c40a710fd96a2ae289c",
      "16852ffd09044dc699d57d193fca82e7",
      "087d8a834c24423bab6d9fe42fb311df",
      "41ac50eb860441d7bc5b72d82877e85b",
      "a922e354916c42b4989956952692e6ee",
      "0a6c9e6380af4fe483562d31f169eac6",
      "fc079fe05eee400b83f668795d7ad5c8",
      "759d194cc68547799fd15d2a21a2f31f",
      "e3a2f6f3ef38415abce28588daf1165a",
      "7a7864af75894a3cb4d5974c1f1e2f40",
      "818bdb6a828446308b9a8bec3fec82ab",
      "d0011dca832946749f79df370db1367e",
      "f53ecdd9689e49e58e31fd628f106a38"
     ]
    },
    "id": "92288624",
    "outputId": "8ab48fd1-1320-439c-ae79-97d9d20c2f05"
   },
   "outputs": [
    {
     "name": "stdout",
     "output_type": "stream",
     "text": [
      "-----------------------------------\n",
      "Epoch 1\n",
      "-----------------------------------\n"
     ]
    },
    {
     "data": {
      "application/vnd.jupyter.widget-view+json": {
       "model_id": "b2cb2c6611ab470eaa8ff742604e4ac1",
       "version_major": 2,
       "version_minor": 0
      },
      "text/plain": [
       "  0%|          | 0/545 [00:00<?, ?it/s]"
      ]
     },
     "metadata": {},
     "output_type": "display_data"
    },
    {
     "data": {
      "application/vnd.jupyter.widget-view+json": {
       "model_id": "002720daebd14f7382a15fb894752243",
       "version_major": 2,
       "version_minor": 0
      },
      "text/plain": [
       "  0%|          | 0/137 [00:00<?, ?it/s]"
      ]
     },
     "metadata": {},
     "output_type": "display_data"
    },
    {
     "name": "stdout",
     "output_type": "stream",
     "text": [
      "Training Loss: 0.5755. Validation Loss: 0.5688. \n",
      "-----------------------------------\n",
      "Epoch 2\n",
      "-----------------------------------\n"
     ]
    },
    {
     "data": {
      "application/vnd.jupyter.widget-view+json": {
       "model_id": "601077b5ea464da98d59bb36dd3cfdfc",
       "version_major": 2,
       "version_minor": 0
      },
      "text/plain": [
       "  0%|          | 0/545 [00:00<?, ?it/s]"
      ]
     },
     "metadata": {},
     "output_type": "display_data"
    },
    {
     "data": {
      "application/vnd.jupyter.widget-view+json": {
       "model_id": "42535e856b0444a28e87ae58c04346d9",
       "version_major": 2,
       "version_minor": 0
      },
      "text/plain": [
       "  0%|          | 0/137 [00:00<?, ?it/s]"
      ]
     },
     "metadata": {},
     "output_type": "display_data"
    },
    {
     "name": "stdout",
     "output_type": "stream",
     "text": [
      "Training Loss: 0.5745. Validation Loss: 0.5688. \n",
      "-----------------------------------\n",
      "Epoch 3\n",
      "-----------------------------------\n"
     ]
    },
    {
     "data": {
      "application/vnd.jupyter.widget-view+json": {
       "model_id": "60827c312ffe4f5db1ed50b4745afbd0",
       "version_major": 2,
       "version_minor": 0
      },
      "text/plain": [
       "  0%|          | 0/545 [00:00<?, ?it/s]"
      ]
     },
     "metadata": {},
     "output_type": "display_data"
    },
    {
     "data": {
      "application/vnd.jupyter.widget-view+json": {
       "model_id": "2c4c64bbeddf420a882de5c339fdeb07",
       "version_major": 2,
       "version_minor": 0
      },
      "text/plain": [
       "  0%|          | 0/137 [00:00<?, ?it/s]"
      ]
     },
     "metadata": {},
     "output_type": "display_data"
    },
    {
     "name": "stdout",
     "output_type": "stream",
     "text": [
      "Training Loss: 0.5746. Validation Loss: 0.5688. \n",
      "-----------------------------------\n",
      "Epoch 4\n",
      "-----------------------------------\n"
     ]
    },
    {
     "data": {
      "application/vnd.jupyter.widget-view+json": {
       "model_id": "9f729361519b4aaab1003372f7094a93",
       "version_major": 2,
       "version_minor": 0
      },
      "text/plain": [
       "  0%|          | 0/545 [00:00<?, ?it/s]"
      ]
     },
     "metadata": {},
     "output_type": "display_data"
    },
    {
     "data": {
      "application/vnd.jupyter.widget-view+json": {
       "model_id": "6ccf00b4e2654376ba0c70514d5ce212",
       "version_major": 2,
       "version_minor": 0
      },
      "text/plain": [
       "  0%|          | 0/137 [00:00<?, ?it/s]"
      ]
     },
     "metadata": {},
     "output_type": "display_data"
    },
    {
     "name": "stdout",
     "output_type": "stream",
     "text": [
      "Training Loss: 0.5745. Validation Loss: 0.5701. \n",
      "-----------------------------------\n",
      "Epoch 5\n",
      "-----------------------------------\n"
     ]
    },
    {
     "data": {
      "application/vnd.jupyter.widget-view+json": {
       "model_id": "6ef4a865a1f146428909a18fb68d388b",
       "version_major": 2,
       "version_minor": 0
      },
      "text/plain": [
       "  0%|          | 0/545 [00:00<?, ?it/s]"
      ]
     },
     "metadata": {},
     "output_type": "display_data"
    },
    {
     "data": {
      "application/vnd.jupyter.widget-view+json": {
       "model_id": "37bb3d0717a449fcb7c1baa7be1f4781",
       "version_major": 2,
       "version_minor": 0
      },
      "text/plain": [
       "  0%|          | 0/137 [00:00<?, ?it/s]"
      ]
     },
     "metadata": {},
     "output_type": "display_data"
    },
    {
     "name": "stdout",
     "output_type": "stream",
     "text": [
      "Training Loss: 0.5745. Validation Loss: 0.5688. \n",
      "-----------------------------------\n",
      "Epoch 6\n",
      "-----------------------------------\n"
     ]
    },
    {
     "data": {
      "application/vnd.jupyter.widget-view+json": {
       "model_id": "430e2378ccbc4e77a37eaac955b6342b",
       "version_major": 2,
       "version_minor": 0
      },
      "text/plain": [
       "  0%|          | 0/545 [00:00<?, ?it/s]"
      ]
     },
     "metadata": {},
     "output_type": "display_data"
    },
    {
     "data": {
      "application/vnd.jupyter.widget-view+json": {
       "model_id": "5c45845a2df244b7b9a6d11a787ca6a6",
       "version_major": 2,
       "version_minor": 0
      },
      "text/plain": [
       "  0%|          | 0/137 [00:00<?, ?it/s]"
      ]
     },
     "metadata": {},
     "output_type": "display_data"
    },
    {
     "name": "stdout",
     "output_type": "stream",
     "text": [
      "Training Loss: 0.5745. Validation Loss: 0.5701. \n",
      "-----------------------------------\n",
      "Epoch 7\n",
      "-----------------------------------\n"
     ]
    },
    {
     "data": {
      "application/vnd.jupyter.widget-view+json": {
       "model_id": "be2dd9ce6e3c49ae99b81be286114cb6",
       "version_major": 2,
       "version_minor": 0
      },
      "text/plain": [
       "  0%|          | 0/545 [00:00<?, ?it/s]"
      ]
     },
     "metadata": {},
     "output_type": "display_data"
    },
    {
     "data": {
      "application/vnd.jupyter.widget-view+json": {
       "model_id": "c3243d5fd32c400fa2d09d85e4fe9004",
       "version_major": 2,
       "version_minor": 0
      },
      "text/plain": [
       "  0%|          | 0/137 [00:00<?, ?it/s]"
      ]
     },
     "metadata": {},
     "output_type": "display_data"
    },
    {
     "name": "stdout",
     "output_type": "stream",
     "text": [
      "Training Loss: 0.5745. Validation Loss: 0.5688. \n",
      "-----------------------------------\n",
      "Epoch 8\n",
      "-----------------------------------\n"
     ]
    },
    {
     "data": {
      "application/vnd.jupyter.widget-view+json": {
       "model_id": "43f44fc28b1a43479b7bcca0bf080ee1",
       "version_major": 2,
       "version_minor": 0
      },
      "text/plain": [
       "  0%|          | 0/545 [00:00<?, ?it/s]"
      ]
     },
     "metadata": {},
     "output_type": "display_data"
    },
    {
     "data": {
      "application/vnd.jupyter.widget-view+json": {
       "model_id": "f1483f5435864a9e80db8ed9d3f8597c",
       "version_major": 2,
       "version_minor": 0
      },
      "text/plain": [
       "  0%|          | 0/137 [00:00<?, ?it/s]"
      ]
     },
     "metadata": {},
     "output_type": "display_data"
    },
    {
     "name": "stdout",
     "output_type": "stream",
     "text": [
      "Training Loss: 0.5745. Validation Loss: 0.5676. \n",
      "-----------------------------------\n",
      "Epoch 9\n",
      "-----------------------------------\n"
     ]
    },
    {
     "data": {
      "application/vnd.jupyter.widget-view+json": {
       "model_id": "f047df1a35214cf980e53a6f7883b32e",
       "version_major": 2,
       "version_minor": 0
      },
      "text/plain": [
       "  0%|          | 0/545 [00:00<?, ?it/s]"
      ]
     },
     "metadata": {},
     "output_type": "display_data"
    },
    {
     "data": {
      "application/vnd.jupyter.widget-view+json": {
       "model_id": "64f45b1b9af9497f84162b45c8267a3a",
       "version_major": 2,
       "version_minor": 0
      },
      "text/plain": [
       "  0%|          | 0/137 [00:00<?, ?it/s]"
      ]
     },
     "metadata": {},
     "output_type": "display_data"
    },
    {
     "name": "stdout",
     "output_type": "stream",
     "text": [
      "Training Loss: 0.5746. Validation Loss: 0.5688. \n",
      "-----------------------------------\n",
      "Epoch 10\n",
      "-----------------------------------\n"
     ]
    },
    {
     "data": {
      "application/vnd.jupyter.widget-view+json": {
       "model_id": "b2c623779f72412aaa36f3a3c9558bce",
       "version_major": 2,
       "version_minor": 0
      },
      "text/plain": [
       "  0%|          | 0/545 [00:00<?, ?it/s]"
      ]
     },
     "metadata": {},
     "output_type": "display_data"
    },
    {
     "data": {
      "application/vnd.jupyter.widget-view+json": {
       "model_id": "be1bddf943124290aca5a68644b1a9e2",
       "version_major": 2,
       "version_minor": 0
      },
      "text/plain": [
       "  0%|          | 0/137 [00:00<?, ?it/s]"
      ]
     },
     "metadata": {},
     "output_type": "display_data"
    },
    {
     "name": "stdout",
     "output_type": "stream",
     "text": [
      "Training Loss: 0.5744. Validation Loss: 0.5713. \n"
     ]
    }
   ],
   "source": [
    "for epoch_idx in range(NUM_EPOCHS):\n",
    "    print(\"-----------------------------------\")\n",
    "    print(\"Epoch %d\" % (epoch_idx+1))\n",
    "    print(\"-----------------------------------\")\n",
    "    \n",
    "    train_loss, avg_train_loss = utils.train(linear_model, train_loader, optimizer, criterion)\n",
    "    scheduler.step(train_loss)\n",
    "\n",
    "    val_loss, avg_val_loss = utils.evaluate(linear_model, val_loader, criterion)\n",
    "\n",
    "    avg_train_loss = avg_train_loss.item()\n",
    "    avg_val_loss = avg_val_loss.item()\n",
    "    print(\"Training Loss: %.4f. Validation Loss: %.4f. \" % (avg_train_loss, avg_val_loss))"
   ]
  },
  {
   "cell_type": "markdown",
   "id": "112c4b3a",
   "metadata": {
    "id": "112c4b3a"
   },
   "source": [
    "## Optional - Simple Convolutional Model\n",
    "\n",
    "Using convolution for sound identification is an established method and has been used on this dataset before. The idea is to make the learnable kernel 1-D and stride it across the sound artifacts. In this simple convolutional model, all 10 seconds of sounds will get flattened into one tensor, and a 1-D kernel strided. "
   ]
  },
  {
   "cell_type": "code",
   "execution_count": null,
   "id": "7c5af4fb",
   "metadata": {
    "id": "7c5af4fb"
   },
   "outputs": [],
   "source": [
    "# Simple Convolution Model Hyperparameters\n",
    "\n",
    "BATCH_SIZE = 32\n",
    "LEARNING_RATE = 1e-3\n",
    "NUM_EPOCHS = 10\n",
    "\n",
    "START_KERNEL_SIZE = 3\n",
    "DROPOUT_RATE = 0.2"
   ]
  },
  {
   "cell_type": "code",
   "execution_count": null,
   "id": "44f1ad3e",
   "metadata": {
    "id": "44f1ad3e"
   },
   "outputs": [],
   "source": [
    "# Convolution Boilerplate code\n",
    "train_loader = DataLoader(train_dataset, batch_size=BATCH_SIZE, shuffle=True)\n",
    "val_loader = DataLoader(val_dataset, batch_size=BATCH_SIZE, shuffle=True)\n",
    "\n",
    "convolution_model = SimpleConvolutionModel.SimpleConvolutionModel(START_KERNEL_SIZE, DROPOUT_RATE).to(device)\n",
    "optimizer = optim.Adam(convolution_model.parameters(), lr=LEARNING_RATE)\n",
    "scheduler = torch.optim.lr_scheduler.ReduceLROnPlateau(optimizer)\n",
    "criterion = nn.CrossEntropyLoss()"
   ]
  },
  {
   "cell_type": "code",
   "execution_count": null,
   "id": "8381034a",
   "metadata": {
    "colab": {
     "referenced_widgets": [
      "eaa2fcb8fee948f5820401f5d616ccd7",
      "9e8cff67e7474c5baa68bc17d72ecf88",
      "7203947521224259bc05ac365c31df75",
      "358ac88dd7d34593a8004688dbdb146e",
      "70eba063397a4abbb06155a175ac5672",
      "a1004925ba9d4067983fb22545a426ed",
      "f3cc6fab0af1451a9ac897e75698ba8e",
      "a42d2ba3bd2c47f48f9ce7d89a6a14a0",
      "bc6036e7349a40dabf57e0a039adc8c3",
      "5652e38d156541cab59d8ae31b1d4a2d",
      "bcee90c8c31c48ab8ff9ee6997e11332",
      "3636ce3e0cd4419e95c15e047e2cf9a9",
      "1752754e285e467a84ee9a63fee6e78f",
      "aa76ddb0bc054fc49b36ede812792902",
      "3005cc9e3bf6416596dae9bdfa9de58d",
      "873d07836af1412d91a72913cb93faf5",
      "138cbab213aa49e88a027bd4ea2b3c3a",
      "7186d9c21a2341179c5b8c356c1e29eb",
      "722825934a6642edb524ad40aee6822c",
      "4316f3ff53ef458ba54ddae8e4eac370"
     ]
    },
    "id": "8381034a",
    "outputId": "d883d090-fa75-46d4-c286-d1ec27e654c1"
   },
   "outputs": [],
   "source": [
    "for epoch_idx in range(NUM_EPOCHS):\n",
    "    print(\"-----------------------------------\")\n",
    "    print(\"Epoch %d\" % (epoch_idx+1))\n",
    "    print(\"-----------------------------------\")\n",
    "    \n",
    "    train_loss, avg_train_loss = utils.train(convolution_model, train_loader, optimizer, criterion)\n",
    "    scheduler.step(train_loss)\n",
    "\n",
    "    val_loss, avg_val_loss = utils.evaluate(convolution_model, val_loader, criterion)\n",
    "\n",
    "    avg_train_loss = avg_train_loss.item()\n",
    "    avg_val_loss = avg_val_loss.item()\n",
    "    print(\"Training Loss: %.4f. Validation Loss: %.4f. \" % (avg_train_loss, avg_val_loss))"
   ]
  },
  {
   "cell_type": "markdown",
   "id": "2950f616",
   "metadata": {},
   "source": [
    "## Optional - LSTM Recurrent Model\n",
    "\n",
    "The research on recurrent models for this audio classification task is less crisp. The idea for this model would be to serve each second of the audio into the recurrent model, and on the very end of the recurrent model, put the hidden state through a linear network to output the classification.\n",
    "\n",
    "This version of the model does something that hasn't been done in any literature we could find. Instead of throwing away predictions from the network from in between frames, we've modified the data to be batch_size X 12 seconds X data, where we add a columm of -1's at the beginning and a column of -2's at the end, to signify a <sos> and <eos>. As a result, we need to reload the data here. "
   ]
  },
  {
   "cell_type": "code",
   "execution_count": 3,
   "id": "efddf757",
   "metadata": {},
   "outputs": [],
   "source": [
    "# append the special columns to the time series portion of the data\n",
    "training_data = utils.add_sos_eos_tokens_data(training_data)\n",
    "# convert the training data to floating point\n",
    "training_data = np.float32(training_data)\n",
    "\n",
    "# split the training data into two parts, one for training and the other for validation\n",
    "data_train, label_train, data_val, label_val = utils.split_data_train_val(training_data, training_label)\n",
    "\n",
    "# put on the right device\n",
    "data_train = torch.from_numpy(data_train).to(device)\n",
    "label_train = torch.from_numpy(label_train).to(device)\n",
    "data_val = torch.from_numpy(data_val).to(device)\n",
    "label_val = torch.from_numpy(label_val).to(device)\n",
    "\n",
    "# Load the dataset into an iterable object from which batches can be made\n",
    "train_dataset = dataloader.MusicDataset(data_train, label_train)\n",
    "val_dataset = dataloader.MusicDataset(data_val, label_val)"
   ]
  },
  {
   "cell_type": "code",
   "execution_count": 4,
   "id": "2ed16e1c",
   "metadata": {},
   "outputs": [],
   "source": [
    "# Simple Convolution Model Hyperparameters\n",
    "\n",
    "BATCH_SIZE = 32\n",
    "LEARNING_RATE = 1e-3\n",
    "NUM_EPOCHS = 10\n",
    "\n",
    "# this is the number of LSTM layers stacked on to each other (e.g\n",
    "# each layer takes the input and hidden state from the previous layer)\n",
    "RECURRENT_STACK_SIZE = 3\n",
    "HIDDEN_STATE_SIZE = 64\n",
    "DROPOUT = 0.1"
   ]
  },
  {
   "cell_type": "code",
   "execution_count": 5,
   "id": "2ae60bde",
   "metadata": {},
   "outputs": [],
   "source": [
    "# LSTM Boilerplate code\n",
    "train_loader = DataLoader(train_dataset, batch_size=BATCH_SIZE, shuffle=True)\n",
    "val_loader = DataLoader(val_dataset, batch_size=BATCH_SIZE, shuffle=True)\n",
    "\n",
    "lstm_model = SimpleRecurrentModel.SimpleRecurrentModel(RECURRENT_STACK_SIZE, HIDDEN_STATE_SIZE, DROPOUT).to(device)\n",
    "optimizer = optim.Adam(lstm_model.parameters(), lr=LEARNING_RATE)\n",
    "scheduler = torch.optim.lr_scheduler.ReduceLROnPlateau(optimizer)\n",
    "criterion = nn.CrossEntropyLoss()"
   ]
  },
  {
   "cell_type": "code",
   "execution_count": 6,
   "id": "366d11db",
   "metadata": {},
   "outputs": [
    {
     "name": "stdout",
     "output_type": "stream",
     "text": [
      "-----------------------------------\n",
      "Epoch 1\n",
      "-----------------------------------\n"
     ]
    },
    {
     "data": {
      "application/vnd.jupyter.widget-view+json": {
       "model_id": "19f309aea6e94ae999d0c5919845bbe9",
       "version_major": 2,
       "version_minor": 0
      },
      "text/plain": [
       "  0%|          | 0/545 [00:00<?, ?it/s]"
      ]
     },
     "metadata": {},
     "output_type": "display_data"
    },
    {
     "data": {
      "application/vnd.jupyter.widget-view+json": {
       "model_id": "e930c79eff3b4ab79f1def5048d89665",
       "version_major": 2,
       "version_minor": 0
      },
      "text/plain": [
       "  0%|          | 0/137 [00:00<?, ?it/s]"
      ]
     },
     "metadata": {},
     "output_type": "display_data"
    },
    {
     "name": "stdout",
     "output_type": "stream",
     "text": [
      "Training Loss: 0.5275. Validation Loss: 0.4977. \n",
      "-----------------------------------\n",
      "Epoch 2\n",
      "-----------------------------------\n"
     ]
    },
    {
     "data": {
      "application/vnd.jupyter.widget-view+json": {
       "model_id": "46520bc67b7946af9771b2fbc650167c",
       "version_major": 2,
       "version_minor": 0
      },
      "text/plain": [
       "  0%|          | 0/545 [00:00<?, ?it/s]"
      ]
     },
     "metadata": {},
     "output_type": "display_data"
    },
    {
     "data": {
      "application/vnd.jupyter.widget-view+json": {
       "model_id": "34b2f20d7a1248409820d1aadecde6b9",
       "version_major": 2,
       "version_minor": 0
      },
      "text/plain": [
       "  0%|          | 0/137 [00:00<?, ?it/s]"
      ]
     },
     "metadata": {},
     "output_type": "display_data"
    },
    {
     "name": "stdout",
     "output_type": "stream",
     "text": [
      "Training Loss: 0.4740. Validation Loss: 0.4383. \n",
      "-----------------------------------\n",
      "Epoch 3\n",
      "-----------------------------------\n"
     ]
    },
    {
     "data": {
      "application/vnd.jupyter.widget-view+json": {
       "model_id": "b1b5ef95a1bf4901a62ed80b38713b2f",
       "version_major": 2,
       "version_minor": 0
      },
      "text/plain": [
       "  0%|          | 0/545 [00:00<?, ?it/s]"
      ]
     },
     "metadata": {},
     "output_type": "display_data"
    },
    {
     "data": {
      "application/vnd.jupyter.widget-view+json": {
       "model_id": "203348f295ad423d9a672a9748970293",
       "version_major": 2,
       "version_minor": 0
      },
      "text/plain": [
       "  0%|          | 0/137 [00:00<?, ?it/s]"
      ]
     },
     "metadata": {},
     "output_type": "display_data"
    },
    {
     "name": "stdout",
     "output_type": "stream",
     "text": [
      "Training Loss: 0.4456. Validation Loss: 0.4284. \n",
      "-----------------------------------\n",
      "Epoch 4\n",
      "-----------------------------------\n"
     ]
    },
    {
     "data": {
      "application/vnd.jupyter.widget-view+json": {
       "model_id": "c9eaf183d415468db2d0457ec5038b8c",
       "version_major": 2,
       "version_minor": 0
      },
      "text/plain": [
       "  0%|          | 0/545 [00:00<?, ?it/s]"
      ]
     },
     "metadata": {},
     "output_type": "display_data"
    },
    {
     "data": {
      "application/vnd.jupyter.widget-view+json": {
       "model_id": "f8ffb5312a50429a9d188afbc1a21eab",
       "version_major": 2,
       "version_minor": 0
      },
      "text/plain": [
       "  0%|          | 0/137 [00:00<?, ?it/s]"
      ]
     },
     "metadata": {},
     "output_type": "display_data"
    },
    {
     "name": "stdout",
     "output_type": "stream",
     "text": [
      "Training Loss: 0.4366. Validation Loss: 0.4059. \n",
      "-----------------------------------\n",
      "Epoch 5\n",
      "-----------------------------------\n"
     ]
    },
    {
     "data": {
      "application/vnd.jupyter.widget-view+json": {
       "model_id": "59795f26be3143e28427ac5cc9f3f6d6",
       "version_major": 2,
       "version_minor": 0
      },
      "text/plain": [
       "  0%|          | 0/545 [00:00<?, ?it/s]"
      ]
     },
     "metadata": {},
     "output_type": "display_data"
    },
    {
     "data": {
      "application/vnd.jupyter.widget-view+json": {
       "model_id": "5911de0f40b24ddc9fe2c1ef30c07ac9",
       "version_major": 2,
       "version_minor": 0
      },
      "text/plain": [
       "  0%|          | 0/137 [00:00<?, ?it/s]"
      ]
     },
     "metadata": {},
     "output_type": "display_data"
    },
    {
     "name": "stdout",
     "output_type": "stream",
     "text": [
      "Training Loss: 0.4164. Validation Loss: 0.3952. \n",
      "-----------------------------------\n",
      "Epoch 6\n",
      "-----------------------------------\n"
     ]
    },
    {
     "data": {
      "application/vnd.jupyter.widget-view+json": {
       "model_id": "d2b5d5ca79854271afff7f3413a71eee",
       "version_major": 2,
       "version_minor": 0
      },
      "text/plain": [
       "  0%|          | 0/545 [00:00<?, ?it/s]"
      ]
     },
     "metadata": {},
     "output_type": "display_data"
    },
    {
     "data": {
      "application/vnd.jupyter.widget-view+json": {
       "model_id": "6d2edb8138ff489da432f9f9e6d3bfcb",
       "version_major": 2,
       "version_minor": 0
      },
      "text/plain": [
       "  0%|          | 0/137 [00:00<?, ?it/s]"
      ]
     },
     "metadata": {},
     "output_type": "display_data"
    },
    {
     "name": "stdout",
     "output_type": "stream",
     "text": [
      "Training Loss: 0.4092. Validation Loss: 0.3973. \n",
      "-----------------------------------\n",
      "Epoch 7\n",
      "-----------------------------------\n"
     ]
    },
    {
     "data": {
      "application/vnd.jupyter.widget-view+json": {
       "model_id": "7d82e3bdf6a3439c8ca3fc95d4eddaab",
       "version_major": 2,
       "version_minor": 0
      },
      "text/plain": [
       "  0%|          | 0/545 [00:00<?, ?it/s]"
      ]
     },
     "metadata": {},
     "output_type": "display_data"
    },
    {
     "data": {
      "application/vnd.jupyter.widget-view+json": {
       "model_id": "84e9c16079314141b91b07c2741782c4",
       "version_major": 2,
       "version_minor": 0
      },
      "text/plain": [
       "  0%|          | 0/137 [00:00<?, ?it/s]"
      ]
     },
     "metadata": {},
     "output_type": "display_data"
    },
    {
     "name": "stdout",
     "output_type": "stream",
     "text": [
      "Training Loss: 0.4101. Validation Loss: 0.3828. \n",
      "-----------------------------------\n",
      "Epoch 8\n",
      "-----------------------------------\n"
     ]
    },
    {
     "data": {
      "application/vnd.jupyter.widget-view+json": {
       "model_id": "8b5ed638302540139dec1d78eec91787",
       "version_major": 2,
       "version_minor": 0
      },
      "text/plain": [
       "  0%|          | 0/545 [00:00<?, ?it/s]"
      ]
     },
     "metadata": {},
     "output_type": "display_data"
    },
    {
     "data": {
      "application/vnd.jupyter.widget-view+json": {
       "model_id": "e56e0492ff6f45d197f68f726df4a6b3",
       "version_major": 2,
       "version_minor": 0
      },
      "text/plain": [
       "  0%|          | 0/137 [00:00<?, ?it/s]"
      ]
     },
     "metadata": {},
     "output_type": "display_data"
    },
    {
     "name": "stdout",
     "output_type": "stream",
     "text": [
      "Training Loss: 0.3995. Validation Loss: 0.3780. \n",
      "-----------------------------------\n",
      "Epoch 9\n",
      "-----------------------------------\n"
     ]
    },
    {
     "data": {
      "application/vnd.jupyter.widget-view+json": {
       "model_id": "a174d064231a46959c2ef9f41b38542d",
       "version_major": 2,
       "version_minor": 0
      },
      "text/plain": [
       "  0%|          | 0/545 [00:00<?, ?it/s]"
      ]
     },
     "metadata": {},
     "output_type": "display_data"
    },
    {
     "data": {
      "application/vnd.jupyter.widget-view+json": {
       "model_id": "e1fcc038035c4a48bbedfeaa10d25a7a",
       "version_major": 2,
       "version_minor": 0
      },
      "text/plain": [
       "  0%|          | 0/137 [00:00<?, ?it/s]"
      ]
     },
     "metadata": {},
     "output_type": "display_data"
    },
    {
     "name": "stdout",
     "output_type": "stream",
     "text": [
      "Training Loss: 0.3955. Validation Loss: 0.3996. \n",
      "-----------------------------------\n",
      "Epoch 10\n",
      "-----------------------------------\n"
     ]
    },
    {
     "data": {
      "application/vnd.jupyter.widget-view+json": {
       "model_id": "a39ff3b2cf444caa859471bf984b6c4a",
       "version_major": 2,
       "version_minor": 0
      },
      "text/plain": [
       "  0%|          | 0/545 [00:00<?, ?it/s]"
      ]
     },
     "metadata": {},
     "output_type": "display_data"
    },
    {
     "data": {
      "application/vnd.jupyter.widget-view+json": {
       "model_id": "683194eecc4049cf84842168620836ec",
       "version_major": 2,
       "version_minor": 0
      },
      "text/plain": [
       "  0%|          | 0/137 [00:00<?, ?it/s]"
      ]
     },
     "metadata": {},
     "output_type": "display_data"
    },
    {
     "name": "stdout",
     "output_type": "stream",
     "text": [
      "Training Loss: 0.3997. Validation Loss: 0.3786. \n"
     ]
    }
   ],
   "source": [
    "for epoch_idx in range(NUM_EPOCHS):\n",
    "    print(\"-----------------------------------\")\n",
    "    print(\"Epoch %d\" % (epoch_idx+1))\n",
    "    print(\"-----------------------------------\")\n",
    "    \n",
    "    train_loss, avg_train_loss = utils.train(lstm_model, train_loader, optimizer, criterion)\n",
    "    scheduler.step(train_loss)\n",
    "\n",
    "    val_loss, avg_val_loss = utils.evaluate(lstm_model, val_loader, criterion)\n",
    "\n",
    "    avg_train_loss = avg_train_loss.item()\n",
    "    avg_val_loss = avg_val_loss.item()\n",
    "    print(\"Training Loss: %.4f. Validation Loss: %.4f. \" % (avg_train_loss, avg_val_loss))"
   ]
  },
  {
   "cell_type": "markdown",
   "id": "7b93f857",
   "metadata": {
    "id": "7b93f857"
   },
   "source": [
    "## Optional - Model Evaluation\n",
    "\n",
    "Pick a model that was trained above and push the evaluation data through it, and compute the model metrics"
   ]
  },
  {
   "cell_type": "code",
   "execution_count": 7,
   "id": "19c4c941",
   "metadata": {
    "colab": {
     "referenced_widgets": [
      "524ee8596f8b42d2b0e7ae3ebb8f891a"
     ]
    },
    "id": "19c4c941",
    "outputId": "0d5a3e9d-2479-4c49-b8e6-45ac1d590118"
   },
   "outputs": [
    {
     "name": "stdout",
     "output_type": "stream",
     "text": [
      "Total of 5233 positive examples out of 19976 samples\n",
      "False\n",
      "False\n"
     ]
    },
    {
     "name": "stderr",
     "output_type": "stream",
     "text": [
      "<ipython-input-7-9a2918905efe>:38: TqdmDeprecationWarning: This function will be removed in tqdm==5.0.0\n",
      "Please use `tqdm.notebook.tqdm` instead of `tqdm.tqdm_notebook`\n",
      "  progress_bar = tqdm_notebook(eval_loader, ascii=True)\n"
     ]
    },
    {
     "data": {
      "application/vnd.jupyter.widget-view+json": {
       "model_id": "199c8545154e4ae78c7cfa4654260717",
       "version_major": 2,
       "version_minor": 0
      },
      "text/plain": [
       "  0%|          | 0/625 [00:00<?, ?it/s]"
      ]
     },
     "metadata": {},
     "output_type": "display_data"
    },
    {
     "name": "stdout",
     "output_type": "stream",
     "text": [
      "Model achieved an average accuracy of 0.7380 on evaluation data\n",
      "Confusion Matrix:\n",
      "tensor([[14743.,     0.],\n",
      "        [ 5233.,     0.]])\n",
      "F1 Score: 0.7380\n"
     ]
    }
   ],
   "source": [
    "# First, load the evaluation data\n",
    "eval_data = utils.load_pytorch_tensor('./utils/eval_data.pt')\n",
    "eval_label = utils.load_pytorch_tensor('./utils/eval_label.pt')\n",
    "\n",
    "# make this multi-classification problem a binary classification problem\n",
    "eval_label, count = utils.convert_multiclass_to_binary(0, eval_label)\n",
    "print(\"Total of \" + str(count) + \" positive examples out of \" + str(eval_label.shape[0]) + \" samples\")\n",
    "\n",
    "eval_data = np.float32(eval_data)\n",
    "\n",
    "# put on the right device - for evaluation, we always run from CPU\n",
    "eval_data = torch.from_numpy(eval_data).to('cpu')\n",
    "eval_label = torch.from_numpy(eval_label).to('cpu')\n",
    "\n",
    "# Next, pick the model you want to evaluate\n",
    "# options: linear_model, convolution_model, \n",
    "model = lstm_model \n",
    "\n",
    "# place the model on the CPU as well\n",
    "model = model.cpu()\n",
    "\n",
    "print(eval_data.is_cuda)\n",
    "print(eval_label.is_cuda)\n",
    "\n",
    "\n",
    "# push the eval data through the model\n",
    "eval_dataset = dataloader.MusicDataset(eval_data, eval_label)\n",
    "eval_loader = DataLoader(eval_dataset, batch_size=BATCH_SIZE, shuffle=True)\n",
    "\n",
    "\n",
    "# declare the metric keepers\n",
    "conf_mat = ConfusionMatrix(num_classes=2)\n",
    "f1_score = F1(num_classes=2)\n",
    "total_accuracy = 0.0\n",
    "\n",
    "with torch.no_grad():\n",
    "  # Get the progress bar\n",
    "  progress_bar = tqdm_notebook(eval_loader, ascii=True)\n",
    "  for batch_idx, data in enumerate(progress_bar):\n",
    "      input_data = data[0].to('cpu')\n",
    "      correct_labels = data[1].to('cpu')\n",
    "\n",
    "      prediction = model(input_data)\n",
    "\n",
    "      conf_mat.update(prediction, correct_labels)\n",
    "      f1_score.update(prediction, correct_labels)\n",
    "      accuracy = torchmetrics.functional.accuracy(prediction, correct_labels)\n",
    "      total_accuracy += accuracy\n",
    "      progress_bar.set_description_str(\n",
    "          \"Batch: %d\" % (batch_idx + 1))\n",
    "\n",
    "# avg_acc, conf_mat, f1_score = utils.evaluate_with_metrics(model, eval_loader)\n",
    "avg_accuracy = total_accuracy / len(eval_loader)\n",
    "final_conf_mat = conf_mat.compute()\n",
    "final_f1_score = f1_score.compute()\n",
    "\n",
    "print(\"Model achieved an average accuracy of %.4f on evaluation data\" % avg_accuracy.item())\n",
    "print(\"Confusion Matrix:\")\n",
    "print(str(final_conf_mat))\n",
    "print(\"F1 Score: %.4f\" % final_f1_score.item())"
   ]
  },
  {
   "cell_type": "code",
   "execution_count": null,
   "id": "f9e53cf3",
   "metadata": {
    "id": "f9e53cf3"
   },
   "outputs": [],
   "source": []
  }
 ],
 "metadata": {
  "accelerator": "GPU",
  "colab": {
   "collapsed_sections": [],
   "name": "cs7643_final_project.ipynb",
   "provenance": []
  },
  "kernelspec": {
   "display_name": "Python 3",
   "language": "python",
   "name": "python3"
  },
  "language_info": {
   "codemirror_mode": {
    "name": "ipython",
    "version": 3
   },
   "file_extension": ".py",
   "mimetype": "text/x-python",
   "name": "python",
   "nbconvert_exporter": "python",
   "pygments_lexer": "ipython3",
   "version": "3.8.8"
  }
 },
 "nbformat": 4,
 "nbformat_minor": 5
}
