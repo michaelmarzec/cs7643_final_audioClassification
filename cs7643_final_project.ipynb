{
 "cells": [
  {
   "cell_type": "markdown",
   "id": "0eca8791",
   "metadata": {},
   "source": [
    "# CS7643 Final Project\n",
    "\n",
    "This notebook is meant to go through the different models and experiment on our dataset containing 21782 training samples on different sounds. \n",
    "\n",
    "## Group Members\n",
    "Zach Halaby\n",
    "Michael Marzec\n",
    "Shayan Mukhtar\n",
    "\n",
    "## Dataset\n",
    "\n",
    "The dataset was obtained under Google's GPL license terms from the following site: https://research.google.com/audioset/download.html"
   ]
  },
  {
   "cell_type": "markdown",
   "id": "8097e241",
   "metadata": {},
   "source": [
    "## Instructions\n",
    "Cells with a \"Mandatory\" in their title must be run. Cells with a title stating that running is optional do not have to be run."
   ]
  },
  {
   "cell_type": "markdown",
   "id": "994d28a8",
   "metadata": {},
   "source": [
    "## Mandatory - Imports\n",
    "\n",
    "Let's start by importing the necessary packages:"
   ]
  },
  {
   "cell_type": "code",
   "execution_count": 12,
   "id": "67130df6",
   "metadata": {},
   "outputs": [],
   "source": [
    "import os.path\n",
    "\n",
    "import torch\n",
    "import torchmetrics\n",
    "import tfrecord\n",
    "import numpy as np\n",
    "from os import walk\n",
    "\n",
    "from torch.utils.data import DataLoader\n",
    "\n",
    "from models import LinearModel\n",
    "from models import SimpleConvolutionModel\n",
    "from utils import utils\n",
    "from utils import dataloader\n",
    "from torch import nn\n",
    "from torch import optim\n",
    "\n",
    "# Tqdm progress bar\n",
    "from tqdm import tqdm_notebook"
   ]
  },
  {
   "cell_type": "markdown",
   "id": "fa322bda",
   "metadata": {},
   "source": [
    "## Mandatory - Load Training Data\n",
    "\n",
    "Load the training data into memory"
   ]
  },
  {
   "cell_type": "code",
   "execution_count": 13,
   "id": "ec210b89",
   "metadata": {},
   "outputs": [
    {
     "name": "stdout",
     "output_type": "stream",
     "text": [
      "You are using device: cpu\n",
      "Total of 5668 positive examples out of 21782 samples\n"
     ]
    }
   ],
   "source": [
    "# Figure out which device this notebook is being run from\n",
    "device = torch.device('cuda' if torch.cuda.is_available() else 'cpu')\n",
    "print(\"You are using device: %s\" % device)\n",
    "\n",
    "# Load the training data from memory. Note this training data was created\n",
    "# by converting the tfrecord files from the original dataset\n",
    "training_data = utils.load_pytorch_tensor('./utils/balanced_train_data.pt')\n",
    "training_label = utils.load_pytorch_tensor('./utils/balanced_train_label.pt')\n",
    "\n",
    "# make this multi-classification problem a binary classification problem by\n",
    "# selecting all labels which contain a given class and making their label\n",
    "# True, and all others False. In this case, 0 means select the speech class\n",
    "training_label, count = utils.convert_multiclass_to_binary(0, training_label)\n",
    "print(\"Total of \" + str(count) + \" positive examples out of \" + str(training_label.shape[0]) + \" samples\")\n",
    "\n",
    "# convert the training data to floating point\n",
    "training_data = np.float32(training_data)\n",
    "\n",
    "# split the training data into two parts, one for training and the other for validation\n",
    "data_train, label_train, data_val, label_val = utils.split_data_train_val(training_data, training_label)\n",
    "\n",
    "# Load the dataset into an iterable object from which batches can be made\n",
    "train_dataset = dataloader.MusicDataset(data_train, label_train)\n",
    "val_dataset = dataloader.MusicDataset(data_val, label_val)"
   ]
  },
  {
   "cell_type": "markdown",
   "id": "acd6fe0d",
   "metadata": {},
   "source": [
    "## Optional - Simple Linear Model\n",
    "\n",
    "Let's get a training loop running with this simple linear model, which is nothing but an input, a ReLu, and an output"
   ]
  },
  {
   "cell_type": "code",
   "execution_count": 14,
   "id": "2e3cdbc3",
   "metadata": {},
   "outputs": [],
   "source": [
    "# Linear Model Hyperparameters\n",
    "\n",
    "BATCH_SIZE = 32\n",
    "LEARNING_RATE = 1e-3\n",
    "HIDDEN_LAYER_SIZE = 64\n",
    "NUM_EPOCHS = 10"
   ]
  },
  {
   "cell_type": "code",
   "execution_count": 15,
   "id": "620852e9",
   "metadata": {},
   "outputs": [],
   "source": [
    "# Linear Model boilerplate code\n",
    "\n",
    "train_loader = DataLoader(train_dataset, batch_size=BATCH_SIZE, shuffle=True)\n",
    "val_loader = DataLoader(val_dataset, batch_size=BATCH_SIZE, shuffle=True)\n",
    "\n",
    "linear_model = LinearModel.LinearModel(10*128, HIDDEN_LAYER_SIZE, 2)\n",
    "optimizer = optim.Adam(linear_model.parameters(), lr=LEARNING_RATE)\n",
    "scheduler = torch.optim.lr_scheduler.ReduceLROnPlateau(optimizer)\n",
    "criterion = nn.CrossEntropyLoss()"
   ]
  },
  {
   "cell_type": "code",
   "execution_count": 16,
   "id": "92288624",
   "metadata": {},
   "outputs": [
    {
     "name": "stdout",
     "output_type": "stream",
     "text": [
      "-----------------------------------\n",
      "Epoch 1\n",
      "-----------------------------------\n"
     ]
    },
    {
     "data": {
      "application/vnd.jupyter.widget-view+json": {
       "model_id": "3de2922c45e44533b7903ea9e599b822",
       "version_major": 2,
       "version_minor": 0
      },
      "text/plain": [
       "  0%|          | 0/545 [00:00<?, ?it/s]"
      ]
     },
     "metadata": {},
     "output_type": "display_data"
    },
    {
     "data": {
      "application/vnd.jupyter.widget-view+json": {
       "model_id": "721b12f7ea274f1791c565a86777957a",
       "version_major": 2,
       "version_minor": 0
      },
      "text/plain": [
       "  0%|          | 0/137 [00:00<?, ?it/s]"
      ]
     },
     "metadata": {},
     "output_type": "display_data"
    },
    {
     "name": "stdout",
     "output_type": "stream",
     "text": [
      "Training Loss: 2.1264. Validation Loss: 0.4652. \n",
      "-----------------------------------\n",
      "Epoch 2\n",
      "-----------------------------------\n"
     ]
    },
    {
     "data": {
      "application/vnd.jupyter.widget-view+json": {
       "model_id": "dbb317282fa54f979c2663bb4211db5c",
       "version_major": 2,
       "version_minor": 0
      },
      "text/plain": [
       "  0%|          | 0/545 [00:00<?, ?it/s]"
      ]
     },
     "metadata": {},
     "output_type": "display_data"
    },
    {
     "data": {
      "application/vnd.jupyter.widget-view+json": {
       "model_id": "fbc3f7100932433bac9f892a71d38280",
       "version_major": 2,
       "version_minor": 0
      },
      "text/plain": [
       "  0%|          | 0/137 [00:00<?, ?it/s]"
      ]
     },
     "metadata": {},
     "output_type": "display_data"
    },
    {
     "name": "stdout",
     "output_type": "stream",
     "text": [
      "Training Loss: 0.4526. Validation Loss: 0.4216. \n",
      "-----------------------------------\n",
      "Epoch 3\n",
      "-----------------------------------\n"
     ]
    },
    {
     "data": {
      "application/vnd.jupyter.widget-view+json": {
       "model_id": "7f1f58b2dd8a43c3ab432aa798eab188",
       "version_major": 2,
       "version_minor": 0
      },
      "text/plain": [
       "  0%|          | 0/545 [00:00<?, ?it/s]"
      ]
     },
     "metadata": {},
     "output_type": "display_data"
    },
    {
     "data": {
      "application/vnd.jupyter.widget-view+json": {
       "model_id": "42161db0697f47d7b996f6f8720ac7ae",
       "version_major": 2,
       "version_minor": 0
      },
      "text/plain": [
       "  0%|          | 0/137 [00:00<?, ?it/s]"
      ]
     },
     "metadata": {},
     "output_type": "display_data"
    },
    {
     "name": "stdout",
     "output_type": "stream",
     "text": [
      "Training Loss: 0.4262. Validation Loss: 0.4050. \n",
      "-----------------------------------\n",
      "Epoch 4\n",
      "-----------------------------------\n"
     ]
    },
    {
     "data": {
      "application/vnd.jupyter.widget-view+json": {
       "model_id": "9b6981bc795a4729abf367176a442391",
       "version_major": 2,
       "version_minor": 0
      },
      "text/plain": [
       "  0%|          | 0/545 [00:00<?, ?it/s]"
      ]
     },
     "metadata": {},
     "output_type": "display_data"
    },
    {
     "data": {
      "application/vnd.jupyter.widget-view+json": {
       "model_id": "6b30774b0c284d1eb5f99ad7a4cdf563",
       "version_major": 2,
       "version_minor": 0
      },
      "text/plain": [
       "  0%|          | 0/137 [00:00<?, ?it/s]"
      ]
     },
     "metadata": {},
     "output_type": "display_data"
    },
    {
     "name": "stdout",
     "output_type": "stream",
     "text": [
      "Training Loss: 0.4048. Validation Loss: 0.3998. \n",
      "-----------------------------------\n",
      "Epoch 5\n",
      "-----------------------------------\n"
     ]
    },
    {
     "data": {
      "application/vnd.jupyter.widget-view+json": {
       "model_id": "0aefef9419774d6186f64693e0d3b7e5",
       "version_major": 2,
       "version_minor": 0
      },
      "text/plain": [
       "  0%|          | 0/545 [00:00<?, ?it/s]"
      ]
     },
     "metadata": {},
     "output_type": "display_data"
    },
    {
     "data": {
      "application/vnd.jupyter.widget-view+json": {
       "model_id": "32d0810ef6c8435c9da0215f726a2896",
       "version_major": 2,
       "version_minor": 0
      },
      "text/plain": [
       "  0%|          | 0/137 [00:00<?, ?it/s]"
      ]
     },
     "metadata": {},
     "output_type": "display_data"
    },
    {
     "name": "stdout",
     "output_type": "stream",
     "text": [
      "Training Loss: 0.3956. Validation Loss: 0.3988. \n",
      "-----------------------------------\n",
      "Epoch 6\n",
      "-----------------------------------\n"
     ]
    },
    {
     "data": {
      "application/vnd.jupyter.widget-view+json": {
       "model_id": "3f17a01f509f447f8a5b8638ff3442b9",
       "version_major": 2,
       "version_minor": 0
      },
      "text/plain": [
       "  0%|          | 0/545 [00:00<?, ?it/s]"
      ]
     },
     "metadata": {},
     "output_type": "display_data"
    },
    {
     "data": {
      "application/vnd.jupyter.widget-view+json": {
       "model_id": "e318c5a62f164114b0fbbaa5e1389e02",
       "version_major": 2,
       "version_minor": 0
      },
      "text/plain": [
       "  0%|          | 0/137 [00:00<?, ?it/s]"
      ]
     },
     "metadata": {},
     "output_type": "display_data"
    },
    {
     "name": "stdout",
     "output_type": "stream",
     "text": [
      "Training Loss: 0.3909. Validation Loss: 0.4307. \n",
      "-----------------------------------\n",
      "Epoch 7\n",
      "-----------------------------------\n"
     ]
    },
    {
     "data": {
      "application/vnd.jupyter.widget-view+json": {
       "model_id": "98b2737c95504da49c68498ab521e8a2",
       "version_major": 2,
       "version_minor": 0
      },
      "text/plain": [
       "  0%|          | 0/545 [00:00<?, ?it/s]"
      ]
     },
     "metadata": {},
     "output_type": "display_data"
    },
    {
     "data": {
      "application/vnd.jupyter.widget-view+json": {
       "model_id": "d1c0022855054f60bf0f54a336e7c7a0",
       "version_major": 2,
       "version_minor": 0
      },
      "text/plain": [
       "  0%|          | 0/137 [00:00<?, ?it/s]"
      ]
     },
     "metadata": {},
     "output_type": "display_data"
    },
    {
     "name": "stdout",
     "output_type": "stream",
     "text": [
      "Training Loss: 0.3846. Validation Loss: 0.4007. \n",
      "-----------------------------------\n",
      "Epoch 8\n",
      "-----------------------------------\n"
     ]
    },
    {
     "data": {
      "application/vnd.jupyter.widget-view+json": {
       "model_id": "812319c777474baca6405c85c5260eae",
       "version_major": 2,
       "version_minor": 0
      },
      "text/plain": [
       "  0%|          | 0/545 [00:00<?, ?it/s]"
      ]
     },
     "metadata": {},
     "output_type": "display_data"
    },
    {
     "data": {
      "application/vnd.jupyter.widget-view+json": {
       "model_id": "4d3abba7f7424abcadea6fc309b00738",
       "version_major": 2,
       "version_minor": 0
      },
      "text/plain": [
       "  0%|          | 0/137 [00:00<?, ?it/s]"
      ]
     },
     "metadata": {},
     "output_type": "display_data"
    },
    {
     "name": "stdout",
     "output_type": "stream",
     "text": [
      "Training Loss: 0.3875. Validation Loss: 0.4065. \n",
      "-----------------------------------\n",
      "Epoch 9\n",
      "-----------------------------------\n"
     ]
    },
    {
     "data": {
      "application/vnd.jupyter.widget-view+json": {
       "model_id": "177f70d4e9884a38b8c2ae0e740bcfcb",
       "version_major": 2,
       "version_minor": 0
      },
      "text/plain": [
       "  0%|          | 0/545 [00:00<?, ?it/s]"
      ]
     },
     "metadata": {},
     "output_type": "display_data"
    },
    {
     "data": {
      "application/vnd.jupyter.widget-view+json": {
       "model_id": "3666f48d74b24a49a3817762c64fee04",
       "version_major": 2,
       "version_minor": 0
      },
      "text/plain": [
       "  0%|          | 0/137 [00:00<?, ?it/s]"
      ]
     },
     "metadata": {},
     "output_type": "display_data"
    },
    {
     "name": "stdout",
     "output_type": "stream",
     "text": [
      "Training Loss: 0.3809. Validation Loss: 0.4365. \n",
      "-----------------------------------\n",
      "Epoch 10\n",
      "-----------------------------------\n"
     ]
    },
    {
     "data": {
      "application/vnd.jupyter.widget-view+json": {
       "model_id": "f2c9cf44355a48899d13d8f6edebc39f",
       "version_major": 2,
       "version_minor": 0
      },
      "text/plain": [
       "  0%|          | 0/545 [00:00<?, ?it/s]"
      ]
     },
     "metadata": {},
     "output_type": "display_data"
    },
    {
     "data": {
      "application/vnd.jupyter.widget-view+json": {
       "model_id": "2c19854dedb3400abe280cfdef19121a",
       "version_major": 2,
       "version_minor": 0
      },
      "text/plain": [
       "  0%|          | 0/137 [00:00<?, ?it/s]"
      ]
     },
     "metadata": {},
     "output_type": "display_data"
    },
    {
     "name": "stdout",
     "output_type": "stream",
     "text": [
      "Training Loss: 0.3764. Validation Loss: 0.4083. \n"
     ]
    }
   ],
   "source": [
    "for epoch_idx in range(NUM_EPOCHS):\n",
    "    print(\"-----------------------------------\")\n",
    "    print(\"Epoch %d\" % (epoch_idx+1))\n",
    "    print(\"-----------------------------------\")\n",
    "    \n",
    "    train_loss, avg_train_loss = utils.train(linear_model, train_loader, optimizer, criterion)\n",
    "    scheduler.step(train_loss)\n",
    "\n",
    "    val_loss, avg_val_loss = utils.evaluate(linear_model, val_loader, criterion)\n",
    "\n",
    "    avg_train_loss = avg_train_loss.item()\n",
    "    avg_val_loss = avg_val_loss.item()\n",
    "    print(\"Training Loss: %.4f. Validation Loss: %.4f. \" % (avg_train_loss, avg_val_loss))"
   ]
  },
  {
   "cell_type": "markdown",
   "id": "112c4b3a",
   "metadata": {},
   "source": [
    "## Optional - Simple Convolutional Model\n",
    "\n",
    "Using convolution for sound identification is an established method and has been used on this dataset before. The idea is to make the learnable kernel 1-D and stride it across the sound artifacts. In this simple convolutional model, all 10 seconds of sounds will get flattened into one tensor, and a 1-D kernel strided. "
   ]
  },
  {
   "cell_type": "code",
   "execution_count": 3,
   "id": "7c5af4fb",
   "metadata": {},
   "outputs": [],
   "source": [
    "# Simple Convolution Model Hyperparameters\n",
    "\n",
    "BATCH_SIZE = 32\n",
    "LEARNING_RATE = 1e-3\n",
    "NUM_EPOCHS = 10\n",
    "\n",
    "START_KERNEL_SIZE = 3\n",
    "DROPOUT_RATE = 0.2"
   ]
  },
  {
   "cell_type": "code",
   "execution_count": 4,
   "id": "44f1ad3e",
   "metadata": {},
   "outputs": [],
   "source": [
    "# Convolution Boilerplate code\n",
    "train_loader = DataLoader(train_dataset, batch_size=BATCH_SIZE, shuffle=True)\n",
    "val_loader = DataLoader(val_dataset, batch_size=BATCH_SIZE, shuffle=True)\n",
    "\n",
    "convolution_model = SimpleConvolutionModel.SimpleConvolutionModel(START_KERNEL_SIZE, DROPOUT_RATE)\n",
    "optimizer = optim.Adam(convolution_model.parameters(), lr=LEARNING_RATE)\n",
    "scheduler = torch.optim.lr_scheduler.ReduceLROnPlateau(optimizer)\n",
    "criterion = nn.CrossEntropyLoss()"
   ]
  },
  {
   "cell_type": "code",
   "execution_count": 5,
   "id": "8381034a",
   "metadata": {},
   "outputs": [
    {
     "name": "stdout",
     "output_type": "stream",
     "text": [
      "-----------------------------------\n",
      "Epoch 1\n",
      "-----------------------------------\n"
     ]
    },
    {
     "data": {
      "application/vnd.jupyter.widget-view+json": {
       "model_id": "99ec05272b824b78a8318eb64a731de3",
       "version_major": 2,
       "version_minor": 0
      },
      "text/plain": [
       "  0%|          | 0/545 [00:00<?, ?it/s]"
      ]
     },
     "metadata": {},
     "output_type": "display_data"
    },
    {
     "data": {
      "application/vnd.jupyter.widget-view+json": {
       "model_id": "d2dcf1fb067547cfb17fabe8933228e8",
       "version_major": 2,
       "version_minor": 0
      },
      "text/plain": [
       "  0%|          | 0/137 [00:00<?, ?it/s]"
      ]
     },
     "metadata": {},
     "output_type": "display_data"
    },
    {
     "name": "stdout",
     "output_type": "stream",
     "text": [
      "Training Loss: 8.7485. Validation Loss: 1.5983. \n",
      "-----------------------------------\n",
      "Epoch 2\n",
      "-----------------------------------\n"
     ]
    },
    {
     "data": {
      "application/vnd.jupyter.widget-view+json": {
       "model_id": "aed8caa57ae941faa036a4de2d33d15b",
       "version_major": 2,
       "version_minor": 0
      },
      "text/plain": [
       "  0%|          | 0/545 [00:00<?, ?it/s]"
      ]
     },
     "metadata": {},
     "output_type": "display_data"
    },
    {
     "data": {
      "application/vnd.jupyter.widget-view+json": {
       "model_id": "714a4227771448d1b11243d28d2ec673",
       "version_major": 2,
       "version_minor": 0
      },
      "text/plain": [
       "  0%|          | 0/137 [00:00<?, ?it/s]"
      ]
     },
     "metadata": {},
     "output_type": "display_data"
    },
    {
     "name": "stdout",
     "output_type": "stream",
     "text": [
      "Training Loss: 1.4948. Validation Loss: 3.6263. \n",
      "-----------------------------------\n",
      "Epoch 3\n",
      "-----------------------------------\n"
     ]
    },
    {
     "data": {
      "application/vnd.jupyter.widget-view+json": {
       "model_id": "c66b4060809a4d68ac6b28594a55326a",
       "version_major": 2,
       "version_minor": 0
      },
      "text/plain": [
       "  0%|          | 0/545 [00:00<?, ?it/s]"
      ]
     },
     "metadata": {},
     "output_type": "display_data"
    },
    {
     "data": {
      "application/vnd.jupyter.widget-view+json": {
       "model_id": "878b020c05904ab699c652e01da1fb0b",
       "version_major": 2,
       "version_minor": 0
      },
      "text/plain": [
       "  0%|          | 0/137 [00:00<?, ?it/s]"
      ]
     },
     "metadata": {},
     "output_type": "display_data"
    },
    {
     "name": "stdout",
     "output_type": "stream",
     "text": [
      "Training Loss: 1.7654. Validation Loss: 3.5861. \n",
      "-----------------------------------\n",
      "Epoch 4\n",
      "-----------------------------------\n"
     ]
    },
    {
     "data": {
      "application/vnd.jupyter.widget-view+json": {
       "model_id": "8e8c50961434423cbc10f7458dbfe148",
       "version_major": 2,
       "version_minor": 0
      },
      "text/plain": [
       "  0%|          | 0/545 [00:00<?, ?it/s]"
      ]
     },
     "metadata": {},
     "output_type": "display_data"
    },
    {
     "data": {
      "application/vnd.jupyter.widget-view+json": {
       "model_id": "fb03759acabc4a388668b56d48f3b877",
       "version_major": 2,
       "version_minor": 0
      },
      "text/plain": [
       "  0%|          | 0/137 [00:00<?, ?it/s]"
      ]
     },
     "metadata": {},
     "output_type": "display_data"
    },
    {
     "name": "stdout",
     "output_type": "stream",
     "text": [
      "Training Loss: 2.2003. Validation Loss: 2.6739. \n",
      "-----------------------------------\n",
      "Epoch 5\n",
      "-----------------------------------\n"
     ]
    },
    {
     "data": {
      "application/vnd.jupyter.widget-view+json": {
       "model_id": "7b5dca4c888c437eb491623ea2eb22f8",
       "version_major": 2,
       "version_minor": 0
      },
      "text/plain": [
       "  0%|          | 0/545 [00:00<?, ?it/s]"
      ]
     },
     "metadata": {},
     "output_type": "display_data"
    },
    {
     "data": {
      "application/vnd.jupyter.widget-view+json": {
       "model_id": "b45f94e3f7be46888daff4ce3f707644",
       "version_major": 2,
       "version_minor": 0
      },
      "text/plain": [
       "  0%|          | 0/137 [00:00<?, ?it/s]"
      ]
     },
     "metadata": {},
     "output_type": "display_data"
    },
    {
     "name": "stdout",
     "output_type": "stream",
     "text": [
      "Training Loss: 1.9091. Validation Loss: 1.6668. \n",
      "-----------------------------------\n",
      "Epoch 6\n",
      "-----------------------------------\n"
     ]
    },
    {
     "data": {
      "application/vnd.jupyter.widget-view+json": {
       "model_id": "f2533f5380f9461aa1993fe8f6944423",
       "version_major": 2,
       "version_minor": 0
      },
      "text/plain": [
       "  0%|          | 0/545 [00:00<?, ?it/s]"
      ]
     },
     "metadata": {},
     "output_type": "display_data"
    },
    {
     "data": {
      "application/vnd.jupyter.widget-view+json": {
       "model_id": "88754ab5277044eca007c157435c2983",
       "version_major": 2,
       "version_minor": 0
      },
      "text/plain": [
       "  0%|          | 0/137 [00:00<?, ?it/s]"
      ]
     },
     "metadata": {},
     "output_type": "display_data"
    },
    {
     "name": "stdout",
     "output_type": "stream",
     "text": [
      "Training Loss: 1.3345. Validation Loss: 1.2515. \n",
      "-----------------------------------\n",
      "Epoch 7\n",
      "-----------------------------------\n"
     ]
    },
    {
     "data": {
      "application/vnd.jupyter.widget-view+json": {
       "model_id": "83a8979526b943e0bddac79179593207",
       "version_major": 2,
       "version_minor": 0
      },
      "text/plain": [
       "  0%|          | 0/545 [00:00<?, ?it/s]"
      ]
     },
     "metadata": {},
     "output_type": "display_data"
    },
    {
     "data": {
      "application/vnd.jupyter.widget-view+json": {
       "model_id": "7be5ddbbca4e47f6b7fc457c52e7fdea",
       "version_major": 2,
       "version_minor": 0
      },
      "text/plain": [
       "  0%|          | 0/137 [00:00<?, ?it/s]"
      ]
     },
     "metadata": {},
     "output_type": "display_data"
    },
    {
     "name": "stdout",
     "output_type": "stream",
     "text": [
      "Training Loss: 0.9413. Validation Loss: 0.9993. \n",
      "-----------------------------------\n",
      "Epoch 8\n",
      "-----------------------------------\n"
     ]
    },
    {
     "data": {
      "application/vnd.jupyter.widget-view+json": {
       "model_id": "4090030641004020976ad88e6051b04f",
       "version_major": 2,
       "version_minor": 0
      },
      "text/plain": [
       "  0%|          | 0/545 [00:00<?, ?it/s]"
      ]
     },
     "metadata": {},
     "output_type": "display_data"
    },
    {
     "data": {
      "application/vnd.jupyter.widget-view+json": {
       "model_id": "870bc6411e0e4ce48daed03e89be6c7e",
       "version_major": 2,
       "version_minor": 0
      },
      "text/plain": [
       "  0%|          | 0/137 [00:00<?, ?it/s]"
      ]
     },
     "metadata": {},
     "output_type": "display_data"
    },
    {
     "name": "stdout",
     "output_type": "stream",
     "text": [
      "Training Loss: 0.7191. Validation Loss: 0.8764. \n",
      "-----------------------------------\n",
      "Epoch 9\n",
      "-----------------------------------\n"
     ]
    },
    {
     "data": {
      "application/vnd.jupyter.widget-view+json": {
       "model_id": "4aa5e6eb1757459ba56fc2e13059f301",
       "version_major": 2,
       "version_minor": 0
      },
      "text/plain": [
       "  0%|          | 0/545 [00:00<?, ?it/s]"
      ]
     },
     "metadata": {},
     "output_type": "display_data"
    },
    {
     "data": {
      "application/vnd.jupyter.widget-view+json": {
       "model_id": "3905ba9f40d043aab5eb7f2d23701fe1",
       "version_major": 2,
       "version_minor": 0
      },
      "text/plain": [
       "  0%|          | 0/137 [00:00<?, ?it/s]"
      ]
     },
     "metadata": {},
     "output_type": "display_data"
    },
    {
     "name": "stdout",
     "output_type": "stream",
     "text": [
      "Training Loss: 0.5938. Validation Loss: 0.6765. \n",
      "-----------------------------------\n",
      "Epoch 10\n",
      "-----------------------------------\n"
     ]
    },
    {
     "data": {
      "application/vnd.jupyter.widget-view+json": {
       "model_id": "bcf8ce8835b54cb3a49b076b089d225e",
       "version_major": 2,
       "version_minor": 0
      },
      "text/plain": [
       "  0%|          | 0/545 [00:00<?, ?it/s]"
      ]
     },
     "metadata": {},
     "output_type": "display_data"
    },
    {
     "data": {
      "application/vnd.jupyter.widget-view+json": {
       "model_id": "91ebc3ac619e41bf8ac00a8a41903307",
       "version_major": 2,
       "version_minor": 0
      },
      "text/plain": [
       "  0%|          | 0/137 [00:00<?, ?it/s]"
      ]
     },
     "metadata": {},
     "output_type": "display_data"
    },
    {
     "name": "stdout",
     "output_type": "stream",
     "text": [
      "Training Loss: 0.5385. Validation Loss: 0.7019. \n"
     ]
    }
   ],
   "source": [
    "for epoch_idx in range(NUM_EPOCHS):\n",
    "    print(\"-----------------------------------\")\n",
    "    print(\"Epoch %d\" % (epoch_idx+1))\n",
    "    print(\"-----------------------------------\")\n",
    "    \n",
    "    train_loss, avg_train_loss = utils.train(convolution_model, train_loader, optimizer, criterion)\n",
    "    scheduler.step(train_loss)\n",
    "\n",
    "    val_loss, avg_val_loss = utils.evaluate(convolution_model, val_loader, criterion)\n",
    "\n",
    "    avg_train_loss = avg_train_loss.item()\n",
    "    avg_val_loss = avg_val_loss.item()\n",
    "    print(\"Training Loss: %.4f. Validation Loss: %.4f. \" % (avg_train_loss, avg_val_loss))"
   ]
  },
  {
   "cell_type": "markdown",
   "id": "7b93f857",
   "metadata": {},
   "source": [
    "## Optional - Model Evaluation\n",
    "\n",
    "Pick a model that was trained above and push the evaluation data through it, and compute the model metrics"
   ]
  },
  {
   "cell_type": "code",
   "execution_count": 17,
   "id": "19c4c941",
   "metadata": {},
   "outputs": [
    {
     "name": "stdout",
     "output_type": "stream",
     "text": [
      "Total of 5233 positive examples out of 19976 samples\n"
     ]
    },
    {
     "data": {
      "application/vnd.jupyter.widget-view+json": {
       "model_id": "06dab79217e84ad998a22318a1dcc193",
       "version_major": 2,
       "version_minor": 0
      },
      "text/plain": [
       "  0%|          | 0/625 [00:00<?, ?it/s]"
      ]
     },
     "metadata": {},
     "output_type": "display_data"
    },
    {
     "name": "stdout",
     "output_type": "stream",
     "text": [
      "Model achieved an average accuracy of 0.8080 on evaluation data\n"
     ]
    }
   ],
   "source": [
    "# First, load the evaluation data\n",
    "eval_data = utils.load_pytorch_tensor('./utils/eval_data.pt')\n",
    "eval_label = utils.load_pytorch_tensor('./utils/eval_label.pt')\n",
    "\n",
    "# make this multi-classification problem a binary classification problem\n",
    "eval_label, count = utils.convert_multiclass_to_binary(0, eval_label)\n",
    "print(\"Total of \" + str(count) + \" positive examples out of \" + str(eval_label.shape[0]) + \" samples\")\n",
    "\n",
    "eval_data = np.float32(eval_data)\n",
    "\n",
    "# Next, pick the model you want to evaluate\n",
    "model = linear_model\n",
    "\n",
    "# push the eval data through the model\n",
    "eval_dataset = dataloader.MusicDataset(eval_data, eval_label)\n",
    "eval_loader = DataLoader(eval_dataset, batch_size=BATCH_SIZE, shuffle=True)\n",
    "\n",
    "avg_acc = utils.evaluate_with_metrics(model, eval_loader)\n",
    "\n",
    "print(\"Model achieved an average accuracy of %.4f on evaluation data\" % avg_acc.item())\n"
   ]
  },
  {
   "cell_type": "code",
   "execution_count": null,
   "id": "f9e53cf3",
   "metadata": {},
   "outputs": [],
   "source": []
  }
 ],
 "metadata": {
  "kernelspec": {
   "display_name": "Python 3",
   "language": "python",
   "name": "python3"
  },
  "language_info": {
   "codemirror_mode": {
    "name": "ipython",
    "version": 3
   },
   "file_extension": ".py",
   "mimetype": "text/x-python",
   "name": "python",
   "nbconvert_exporter": "python",
   "pygments_lexer": "ipython3",
   "version": "3.8.8"
  }
 },
 "nbformat": 4,
 "nbformat_minor": 5
}
