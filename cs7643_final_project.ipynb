{
 "cells": [
  {
   "cell_type": "markdown",
   "id": "0eca8791",
   "metadata": {},
   "source": [
    "# CS7643 Final Project\n",
    "\n",
    "This notebook is meant to go through the different models and experiment on our dataset containing 21782 training samples on different sounds. \n",
    "\n",
    "## Group Members\n",
    "Zach Halaby\n",
    "Michael Marzec\n",
    "Shayan Mukhtar\n",
    "\n",
    "## Dataset\n",
    "\n",
    "The dataset was obtained under Google's GPL license terms from the following site: https://research.google.com/audioset/download.html"
   ]
  },
  {
   "cell_type": "markdown",
   "id": "8097e241",
   "metadata": {},
   "source": [
    "## Instructions\n",
    "Cells with a \"Mandatory\" in their title must be run. Cells with a title stating that running is optional do not have to be run."
   ]
  },
  {
   "cell_type": "markdown",
   "id": "994d28a8",
   "metadata": {},
   "source": [
    "## Mandatory - Imports\n",
    "\n",
    "Let's start by importing the necessary packages:"
   ]
  },
  {
   "cell_type": "code",
   "execution_count": 1,
   "id": "67130df6",
   "metadata": {},
   "outputs": [],
   "source": [
    "import os.path\n",
    "\n",
    "import torch\n",
    "import torchmetrics\n",
    "import tfrecord\n",
    "import numpy as np\n",
    "from os import walk\n",
    "\n",
    "from torch.utils.data import DataLoader\n",
    "\n",
    "from models import LinearModel\n",
    "from models import SimpleConvolutionModel\n",
    "from utils import utils\n",
    "from utils import dataloader\n",
    "from torch import nn\n",
    "from torch import optim\n",
    "\n",
    "# Tqdm progress bar\n",
    "from tqdm import tqdm_notebook"
   ]
  },
  {
   "cell_type": "markdown",
   "id": "fa322bda",
   "metadata": {},
   "source": [
    "## Mandatory - Load Training Data\n",
    "\n",
    "Load the training data into memory"
   ]
  },
  {
   "cell_type": "code",
   "execution_count": 2,
   "id": "ec210b89",
   "metadata": {},
   "outputs": [
    {
     "name": "stdout",
     "output_type": "stream",
     "text": [
      "You are using device: cpu\n",
      "Total of 5668 positive examples out of 21782 samples\n"
     ]
    }
   ],
   "source": [
    "# Figure out which device this notebook is being run from\n",
    "device = torch.device('cuda' if torch.cuda.is_available() else 'cpu')\n",
    "print(\"You are using device: %s\" % device)\n",
    "\n",
    "# Load the training data from memory. Note this training data was created\n",
    "# by converting the tfrecord files from the original dataset\n",
    "training_data = utils.load_pytorch_tensor('./utils/balanced_train_data.pt')\n",
    "training_label = utils.load_pytorch_tensor('./utils/balanced_train_label.pt')\n",
    "\n",
    "# make this multi-classification problem a binary classification problem by\n",
    "# selecting all labels which contain a given class and making their label\n",
    "# True, and all others False. In this case, 0 means select the speech class\n",
    "training_label, count = utils.convert_multiclass_to_binary(0, training_label)\n",
    "print(\"Total of \" + str(count) + \" positive examples out of \" + str(training_label.shape[0]) + \" samples\")\n",
    "\n",
    "# convert the training data to floating point\n",
    "training_data = np.float32(training_data)\n",
    "\n",
    "# split the training data into two parts, one for training and the other for validation\n",
    "data_train, label_train, data_val, label_val = utils.split_data_train_val(training_data, training_label)\n",
    "\n",
    "# Load the dataset into an iterable object from which batches can be made\n",
    "train_dataset = dataloader.MusicDataset(data_train, label_train)\n",
    "val_dataset = dataloader.MusicDataset(data_val, label_val)"
   ]
  },
  {
   "cell_type": "markdown",
   "id": "acd6fe0d",
   "metadata": {},
   "source": [
    "## Optional - Simple Linear Model\n",
    "\n",
    "Let's get a training loop running with this simple linear model, which is nothing but an input, a ReLu, and an output"
   ]
  },
  {
   "cell_type": "code",
   "execution_count": 3,
   "id": "2e3cdbc3",
   "metadata": {},
   "outputs": [],
   "source": [
    "# Linear Model Hyperparameters\n",
    "\n",
    "BATCH_SIZE = 32\n",
    "LEARNING_RATE = 1e-3\n",
    "HIDDEN_LAYER_SIZE = 64\n",
    "NUM_EPOCHS = 10"
   ]
  },
  {
   "cell_type": "code",
   "execution_count": 4,
   "id": "620852e9",
   "metadata": {},
   "outputs": [],
   "source": [
    "# Linear Model boilerplate code\n",
    "\n",
    "train_loader = DataLoader(train_dataset, batch_size=BATCH_SIZE, shuffle=True)\n",
    "val_loader = DataLoader(val_dataset, batch_size=BATCH_SIZE, shuffle=True)\n",
    "\n",
    "linear_model = LinearModel.LinearModel(10*128, HIDDEN_LAYER_SIZE, 2)\n",
    "optimizer = optim.Adam(linear_model.parameters(), lr=LEARNING_RATE)\n",
    "scheduler = torch.optim.lr_scheduler.ReduceLROnPlateau(optimizer)\n",
    "criterion = nn.CrossEntropyLoss()"
   ]
  },
  {
   "cell_type": "code",
   "execution_count": 5,
   "id": "92288624",
   "metadata": {},
   "outputs": [
    {
     "name": "stdout",
     "output_type": "stream",
     "text": [
      "-----------------------------------\n",
      "Epoch 1\n",
      "-----------------------------------\n"
     ]
    },
    {
     "data": {
      "application/vnd.jupyter.widget-view+json": {
       "model_id": "138122cb62ff4f7199a7dfda894e97e8",
       "version_major": 2,
       "version_minor": 0
      },
      "text/plain": [
       "  0%|          | 0/545 [00:00<?, ?it/s]"
      ]
     },
     "metadata": {},
     "output_type": "display_data"
    },
    {
     "data": {
      "application/vnd.jupyter.widget-view+json": {
       "model_id": "3797fcd8d42642d2960c64c959447814",
       "version_major": 2,
       "version_minor": 0
      },
      "text/plain": [
       "  0%|          | 0/137 [00:00<?, ?it/s]"
      ]
     },
     "metadata": {},
     "output_type": "display_data"
    },
    {
     "name": "stdout",
     "output_type": "stream",
     "text": [
      "Training Loss: 1.6548. Validation Loss: 0.5811. \n",
      "-----------------------------------\n",
      "Epoch 2\n",
      "-----------------------------------\n"
     ]
    },
    {
     "data": {
      "application/vnd.jupyter.widget-view+json": {
       "model_id": "3c2ed5451faa41bcaf3dc658ee1bc6ff",
       "version_major": 2,
       "version_minor": 0
      },
      "text/plain": [
       "  0%|          | 0/545 [00:00<?, ?it/s]"
      ]
     },
     "metadata": {},
     "output_type": "display_data"
    },
    {
     "data": {
      "application/vnd.jupyter.widget-view+json": {
       "model_id": "2daf41d51f7941188ec6f8b4ce04a610",
       "version_major": 2,
       "version_minor": 0
      },
      "text/plain": [
       "  0%|          | 0/137 [00:00<?, ?it/s]"
      ]
     },
     "metadata": {},
     "output_type": "display_data"
    },
    {
     "name": "stdout",
     "output_type": "stream",
     "text": [
      "Training Loss: 0.5774. Validation Loss: 0.5691. \n",
      "-----------------------------------\n",
      "Epoch 3\n",
      "-----------------------------------\n"
     ]
    },
    {
     "data": {
      "application/vnd.jupyter.widget-view+json": {
       "model_id": "679b634dd8394029ad7265ab277c4e5d",
       "version_major": 2,
       "version_minor": 0
      },
      "text/plain": [
       "  0%|          | 0/545 [00:00<?, ?it/s]"
      ]
     },
     "metadata": {},
     "output_type": "display_data"
    },
    {
     "data": {
      "application/vnd.jupyter.widget-view+json": {
       "model_id": "5cbf28ccac7a4941b18dd82c4bbba190",
       "version_major": 2,
       "version_minor": 0
      },
      "text/plain": [
       "  0%|          | 0/137 [00:00<?, ?it/s]"
      ]
     },
     "metadata": {},
     "output_type": "display_data"
    },
    {
     "name": "stdout",
     "output_type": "stream",
     "text": [
      "Training Loss: 0.5746. Validation Loss: 0.5697. \n",
      "-----------------------------------\n",
      "Epoch 4\n",
      "-----------------------------------\n"
     ]
    },
    {
     "data": {
      "application/vnd.jupyter.widget-view+json": {
       "model_id": "715ed57fc96747debe095e1182dd03eb",
       "version_major": 2,
       "version_minor": 0
      },
      "text/plain": [
       "  0%|          | 0/545 [00:00<?, ?it/s]"
      ]
     },
     "metadata": {},
     "output_type": "display_data"
    },
    {
     "data": {
      "application/vnd.jupyter.widget-view+json": {
       "model_id": "b89168d4f24541b7859f49a4ebb214a6",
       "version_major": 2,
       "version_minor": 0
      },
      "text/plain": [
       "  0%|          | 0/137 [00:00<?, ?it/s]"
      ]
     },
     "metadata": {},
     "output_type": "display_data"
    },
    {
     "name": "stdout",
     "output_type": "stream",
     "text": [
      "Training Loss: 0.5746. Validation Loss: 0.5698. \n",
      "-----------------------------------\n",
      "Epoch 5\n",
      "-----------------------------------\n"
     ]
    },
    {
     "data": {
      "application/vnd.jupyter.widget-view+json": {
       "model_id": "2b01c1b0fb7c4396a035ba3954945366",
       "version_major": 2,
       "version_minor": 0
      },
      "text/plain": [
       "  0%|          | 0/545 [00:00<?, ?it/s]"
      ]
     },
     "metadata": {},
     "output_type": "display_data"
    },
    {
     "data": {
      "application/vnd.jupyter.widget-view+json": {
       "model_id": "14d8daac7eb64cdea638e6fb5d6ea8c5",
       "version_major": 2,
       "version_minor": 0
      },
      "text/plain": [
       "  0%|          | 0/137 [00:00<?, ?it/s]"
      ]
     },
     "metadata": {},
     "output_type": "display_data"
    },
    {
     "name": "stdout",
     "output_type": "stream",
     "text": [
      "Training Loss: 0.5743. Validation Loss: 0.5710. \n",
      "-----------------------------------\n",
      "Epoch 6\n",
      "-----------------------------------\n"
     ]
    },
    {
     "data": {
      "application/vnd.jupyter.widget-view+json": {
       "model_id": "fab28b993e5d4986995eb8b799d6cf06",
       "version_major": 2,
       "version_minor": 0
      },
      "text/plain": [
       "  0%|          | 0/545 [00:00<?, ?it/s]"
      ]
     },
     "metadata": {},
     "output_type": "display_data"
    },
    {
     "data": {
      "application/vnd.jupyter.widget-view+json": {
       "model_id": "5ec7c31fa6534a69aab9032752519dff",
       "version_major": 2,
       "version_minor": 0
      },
      "text/plain": [
       "  0%|          | 0/137 [00:00<?, ?it/s]"
      ]
     },
     "metadata": {},
     "output_type": "display_data"
    },
    {
     "name": "stdout",
     "output_type": "stream",
     "text": [
      "Training Loss: 0.5745. Validation Loss: 0.5710. \n",
      "-----------------------------------\n",
      "Epoch 7\n",
      "-----------------------------------\n"
     ]
    },
    {
     "data": {
      "application/vnd.jupyter.widget-view+json": {
       "model_id": "023488ae58104fffa8022d3581dcf597",
       "version_major": 2,
       "version_minor": 0
      },
      "text/plain": [
       "  0%|          | 0/545 [00:00<?, ?it/s]"
      ]
     },
     "metadata": {},
     "output_type": "display_data"
    },
    {
     "data": {
      "application/vnd.jupyter.widget-view+json": {
       "model_id": "5d37b1f063de4c2e891a203c94a4d304",
       "version_major": 2,
       "version_minor": 0
      },
      "text/plain": [
       "  0%|          | 0/137 [00:00<?, ?it/s]"
      ]
     },
     "metadata": {},
     "output_type": "display_data"
    },
    {
     "name": "stdout",
     "output_type": "stream",
     "text": [
      "Training Loss: 0.5744. Validation Loss: 0.5685. \n",
      "-----------------------------------\n",
      "Epoch 8\n",
      "-----------------------------------\n"
     ]
    },
    {
     "data": {
      "application/vnd.jupyter.widget-view+json": {
       "model_id": "9d597e8485394fc190dba4d3aa6e68c1",
       "version_major": 2,
       "version_minor": 0
      },
      "text/plain": [
       "  0%|          | 0/545 [00:00<?, ?it/s]"
      ]
     },
     "metadata": {},
     "output_type": "display_data"
    },
    {
     "data": {
      "application/vnd.jupyter.widget-view+json": {
       "model_id": "e269439a34b64951b1d7210edd7abbde",
       "version_major": 2,
       "version_minor": 0
      },
      "text/plain": [
       "  0%|          | 0/137 [00:00<?, ?it/s]"
      ]
     },
     "metadata": {},
     "output_type": "display_data"
    },
    {
     "name": "stdout",
     "output_type": "stream",
     "text": [
      "Training Loss: 0.5744. Validation Loss: 0.5672. \n",
      "-----------------------------------\n",
      "Epoch 9\n",
      "-----------------------------------\n"
     ]
    },
    {
     "data": {
      "application/vnd.jupyter.widget-view+json": {
       "model_id": "ab97c716729a4df180479fcef7e5bf4f",
       "version_major": 2,
       "version_minor": 0
      },
      "text/plain": [
       "  0%|          | 0/545 [00:00<?, ?it/s]"
      ]
     },
     "metadata": {},
     "output_type": "display_data"
    },
    {
     "data": {
      "application/vnd.jupyter.widget-view+json": {
       "model_id": "70167846a9c345b99e0567b5123053c1",
       "version_major": 2,
       "version_minor": 0
      },
      "text/plain": [
       "  0%|          | 0/137 [00:00<?, ?it/s]"
      ]
     },
     "metadata": {},
     "output_type": "display_data"
    },
    {
     "name": "stdout",
     "output_type": "stream",
     "text": [
      "Training Loss: 0.5745. Validation Loss: 0.5698. \n",
      "-----------------------------------\n",
      "Epoch 10\n",
      "-----------------------------------\n"
     ]
    },
    {
     "data": {
      "application/vnd.jupyter.widget-view+json": {
       "model_id": "ad8cf6b0145a45d1a403d0ab02187da5",
       "version_major": 2,
       "version_minor": 0
      },
      "text/plain": [
       "  0%|          | 0/545 [00:00<?, ?it/s]"
      ]
     },
     "metadata": {},
     "output_type": "display_data"
    },
    {
     "data": {
      "application/vnd.jupyter.widget-view+json": {
       "model_id": "c4a852fa239044f896ff909102b13111",
       "version_major": 2,
       "version_minor": 0
      },
      "text/plain": [
       "  0%|          | 0/137 [00:00<?, ?it/s]"
      ]
     },
     "metadata": {},
     "output_type": "display_data"
    },
    {
     "name": "stdout",
     "output_type": "stream",
     "text": [
      "Training Loss: 0.5746. Validation Loss: 0.5698. \n"
     ]
    }
   ],
   "source": [
    "for epoch_idx in range(NUM_EPOCHS):\n",
    "    print(\"-----------------------------------\")\n",
    "    print(\"Epoch %d\" % (epoch_idx+1))\n",
    "    print(\"-----------------------------------\")\n",
    "    \n",
    "    train_loss, avg_train_loss = utils.train(linear_model, train_loader, optimizer, criterion)\n",
    "    scheduler.step(train_loss)\n",
    "\n",
    "    val_loss, avg_val_loss = utils.evaluate(linear_model, val_loader, criterion)\n",
    "\n",
    "    avg_train_loss = avg_train_loss.item()\n",
    "    avg_val_loss = avg_val_loss.item()\n",
    "    print(\"Training Loss: %.4f. Validation Loss: %.4f. \" % (avg_train_loss, avg_val_loss))"
   ]
  },
  {
   "cell_type": "markdown",
   "id": "112c4b3a",
   "metadata": {},
   "source": [
    "## Optional - Simple Convolutional Model\n",
    "\n",
    "Using convolution for sound identification is an established method and has been used on this dataset before. The idea is to make the learnable kernel 1-D and stride it across the sound artifacts. In this simple convolutional model, all 10 seconds of sounds will get flattened into one tensor, and a 1-D kernel strided. "
   ]
  },
  {
   "cell_type": "code",
   "execution_count": null,
   "id": "7c5af4fb",
   "metadata": {},
   "outputs": [],
   "source": [
    "# Simple Convolution Model Hyperparameters\n",
    "\n",
    "BATCH_SIZE = 32\n",
    "LEARNING_RATE = 1e-3\n",
    "NUM_EPOCHS = 10\n",
    "\n",
    "START_KERNEL_SIZE = 3\n",
    "DROPOUT_RATE = 0.2"
   ]
  },
  {
   "cell_type": "code",
   "execution_count": null,
   "id": "44f1ad3e",
   "metadata": {},
   "outputs": [],
   "source": [
    "# Convolution Boilerplate code\n",
    "train_loader = DataLoader(train_dataset, batch_size=BATCH_SIZE, shuffle=True)\n",
    "val_loader = DataLoader(val_dataset, batch_size=BATCH_SIZE, shuffle=True)\n",
    "\n",
    "convolution_model = SimpleConvolutionModel.SimpleConvolutionModel(START_KERNEL_SIZE, DROPOUT_RATE)\n",
    "optimizer = optim.Adam(convolution_model.parameters(), lr=LEARNING_RATE)\n",
    "scheduler = torch.optim.lr_scheduler.ReduceLROnPlateau(optimizer)\n",
    "criterion = nn.CrossEntropyLoss()"
   ]
  },
  {
   "cell_type": "code",
   "execution_count": null,
   "id": "8381034a",
   "metadata": {},
   "outputs": [],
   "source": [
    "for epoch_idx in range(NUM_EPOCHS):\n",
    "    print(\"-----------------------------------\")\n",
    "    print(\"Epoch %d\" % (epoch_idx+1))\n",
    "    print(\"-----------------------------------\")\n",
    "    \n",
    "    train_loss, avg_train_loss = utils.train(convolution_model, train_loader, optimizer, criterion)\n",
    "    scheduler.step(train_loss)\n",
    "\n",
    "    val_loss, avg_val_loss = utils.evaluate(convolution_model, val_loader, criterion)\n",
    "\n",
    "    avg_train_loss = avg_train_loss.item()\n",
    "    avg_val_loss = avg_val_loss.item()\n",
    "    print(\"Training Loss: %.4f. Validation Loss: %.4f. \" % (avg_train_loss, avg_val_loss))"
   ]
  },
  {
   "cell_type": "markdown",
   "id": "7b93f857",
   "metadata": {},
   "source": [
    "## Optional - Model Evaluation\n",
    "\n",
    "Pick a model that was trained above and push the evaluation data through it, and compute the model metrics"
   ]
  },
  {
   "cell_type": "code",
   "execution_count": 7,
   "id": "19c4c941",
   "metadata": {},
   "outputs": [
    {
     "name": "stdout",
     "output_type": "stream",
     "text": [
      "Total of 5233 positive examples out of 19976 samples\n"
     ]
    },
    {
     "data": {
      "application/vnd.jupyter.widget-view+json": {
       "model_id": "41a8ad307bc54b2d8cb29c4e15e0960a",
       "version_major": 2,
       "version_minor": 0
      },
      "text/plain": [
       "  0%|          | 0/625 [00:00<?, ?it/s]"
      ]
     },
     "metadata": {},
     "output_type": "display_data"
    },
    {
     "name": "stdout",
     "output_type": "stream",
     "text": [
      "Model achieved an average accuracy of 0.7380 on evaluation data\n",
      "Confusion Matrix:\n",
      "tensor([[14743.,     0.],\n",
      "        [ 5233.,     0.]])\n",
      "F1 Score: 0.7380\n"
     ]
    }
   ],
   "source": [
    "# First, load the evaluation data\n",
    "eval_data = utils.load_pytorch_tensor('./utils/eval_data.pt')\n",
    "eval_label = utils.load_pytorch_tensor('./utils/eval_label.pt')\n",
    "\n",
    "# make this multi-classification problem a binary classification problem\n",
    "eval_label, count = utils.convert_multiclass_to_binary(0, eval_label)\n",
    "print(\"Total of \" + str(count) + \" positive examples out of \" + str(eval_label.shape[0]) + \" samples\")\n",
    "\n",
    "eval_data = np.float32(eval_data)\n",
    "\n",
    "# Next, pick the model you want to evaluate\n",
    "model = linear_model\n",
    "\n",
    "# push the eval data through the model\n",
    "eval_dataset = dataloader.MusicDataset(eval_data, eval_label)\n",
    "eval_loader = DataLoader(eval_dataset, batch_size=BATCH_SIZE, shuffle=True)\n",
    "\n",
    "avg_acc, conf_mat, f1_score = utils.evaluate_with_metrics(model, eval_loader)\n",
    "\n",
    "print(\"Model achieved an average accuracy of %.4f on evaluation data\" % avg_acc.item())\n",
    "print(\"Confusion Matrix:\")\n",
    "print(str(conf_mat))\n",
    "print(\"F1 Score: %.4f\" % f1_score.item())"
   ]
  },
  {
   "cell_type": "code",
   "execution_count": null,
   "id": "f9e53cf3",
   "metadata": {},
   "outputs": [],
   "source": []
  },
  {
   "cell_type": "code",
   "execution_count": null,
   "id": "7e0ffa32",
   "metadata": {},
   "outputs": [],
   "source": []
  }
 ],
 "metadata": {
  "kernelspec": {
   "display_name": "Python 3",
   "language": "python",
   "name": "python3"
  },
  "language_info": {
   "codemirror_mode": {
    "name": "ipython",
    "version": 3
   },
   "file_extension": ".py",
   "mimetype": "text/x-python",
   "name": "python",
   "nbconvert_exporter": "python",
   "pygments_lexer": "ipython3",
   "version": "3.8.8"
  }
 },
 "nbformat": 4,
 "nbformat_minor": 5
}
